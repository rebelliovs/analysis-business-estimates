{
 "cells": [
  {
   "cell_type": "markdown",
   "metadata": {},
   "source": [
    "### Companies and Regional Economic Activity"
   ]
  },
  {
   "cell_type": "code",
   "execution_count": 25,
   "metadata": {},
   "outputs": [],
   "source": [
    "import pandas as pd\n",
    "import numpy as np\n",
    "import seaborn as sns\n",
    "import plotly.express as px\n",
    "import matplotlib.pyplot as plt\n",
    "import matplotlib as mpl\n",
    "from mpl_toolkits.mplot3d import Axes3D\n",
    "\n",
    "from matplotlib import font_manager\n",
    "font_manager.findSystemFonts(fontpaths=None, fontext=\"ttf\")\n",
    "\n",
    "import warnings\n",
    "warnings.filterwarnings(\"ignore\")"
   ]
  },
  {
   "cell_type": "code",
   "execution_count": 26,
   "metadata": {},
   "outputs": [],
   "source": [
    "font_dirs = ['assets/']\n",
    "font_files = font_manager.findSystemFonts(fontpaths=font_dirs)\n",
    "\n",
    "for font_file in font_files:\n",
    "    font_manager.fontManager.addfont(font_file)\n",
    "\n",
    "mpl.rcParams.update({\n",
    "    'font.family' : 'DM Sans',\n",
    "    'axes.labelweight' : 'bold',\n",
    "    'axes.labelcolor' : '#6E6C83',\n",
    "    'axes.edgecolor' : '#DEDEE9',\n",
    "    'ytick.minor.size' : 0,\n",
    "    'ytick.major.size' : 0,\n",
    "    'ytick.color' : '#6E6C83',\n",
    "    'xtick.minor.size' : 0,\n",
    "    'xtick.major.size' : 0,\n",
    "    'xtick.color' : '#6E6C83',\n",
    "    'lines.color' : '#DEDEE9',\n",
    "    'savefig.dpi' : 300,\n",
    "    'figure.figsize' : [12,7],\n",
    "    'figure.facecolor' : '#FFFFFF'\n",
    "})\n",
    "\n",
    "colors = ['#4A3AFF', '#0B0086', '#766AFF', '#E1DEFF']\n",
    "colors2 = ['#0B0086', '#4A3AFF', '#766AFF', '#E1DEFF']\n",
    "\n",
    "bgc = ['#FFFFFF']\n",
    "textc = ['#1E1B39', '#6E6C83', '#4A3AFF', '#FFFFFF']"
   ]
  },
  {
   "cell_type": "code",
   "execution_count": 27,
   "metadata": {},
   "outputs": [
    {
     "name": "stdout",
     "output_type": "stream",
     "text": [
      "(20139, 75) (189064, 6) (18, 6) (91661, 6)\n"
     ]
    }
   ],
   "source": [
    "df = pd.read_csv('data/refined.csv') # company id, financials, location\n",
    "fin = pd.read_csv('data/financials.csv') # company id, years, financials\n",
    "gdp = pd.read_csv('data/region_gdp.csv') # region gdp per year\n",
    "\n",
    "# company id, location (better than in the other file), name, and  code id for whether its still active or not\n",
    "states = pd.read_csv('data/states.csv')\n",
    "\n",
    "print(df.shape, fin.shape, gdp.shape, states.shape)"
   ]
  },
  {
   "cell_type": "markdown",
   "metadata": {},
   "source": [
    "#### EDA"
   ]
  },
  {
   "cell_type": "markdown",
   "metadata": {},
   "source": [
    "There are a lot of **null** values within the **'refined.csv'** dataframe.\n",
    "\n",
    "That is because not all companies were active for all the years from **2005 to 2022**, and not all companies reported their financial data for some years. The file containing all the necessary financials is **'financials.csv'** where each companies financials are **grouped by year**.\n",
    "\n",
    "The only cleaning that has to be done for this is for the **'location'** column where some locations are the same, but written in different ways. So we will take the locations from the **'states.csv'** file, that was provided for by the **government** data website."
   ]
  },
  {
   "cell_type": "code",
   "execution_count": 28,
   "metadata": {},
   "outputs": [
    {
     "name": "stdout",
     "output_type": "stream",
     "text": [
      "DF - REFINED.CSV EDA\n",
      "<class 'pandas.core.frame.DataFrame'>\n",
      "RangeIndex: 20139 entries, 0 to 20138\n",
      "Data columns (total 75 columns):\n",
      " #   Column          Non-Null Count  Dtype  \n",
      "---  ------          --------------  -----  \n",
      " 0   id              20139 non-null  int64  \n",
      " 1   founded         20139 non-null  int64  \n",
      " 2   location        20139 non-null  object \n",
      " 3   turnover_2022   19339 non-null  float64\n",
      " 4   profit_2022     19339 non-null  float64\n",
      " 5   debts_2022      19339 non-null  float64\n",
      " 6   employees_2022  19339 non-null  float64\n",
      " 7   turnover_2021   17928 non-null  float64\n",
      " 8   profit_2021     17928 non-null  float64\n",
      " 9   debts_2021      17928 non-null  float64\n",
      " 10  employees_2021  17928 non-null  float64\n",
      " 11  turnover_2020   16554 non-null  float64\n",
      " 12  profit_2020     16554 non-null  float64\n",
      " 13  debts_2020      16554 non-null  float64\n",
      " 14  employees_2020  16554 non-null  float64\n",
      " 15  turnover_2019   15409 non-null  float64\n",
      " 16  profit_2019     15409 non-null  float64\n",
      " 17  debts_2019      15409 non-null  float64\n",
      " 18  employees_2019  15409 non-null  float64\n",
      " 19  turnover_2018   13784 non-null  float64\n",
      " 20  profit_2018     13784 non-null  float64\n",
      " 21  debts_2018      13784 non-null  float64\n",
      " 22  employees_2018  13784 non-null  float64\n",
      " 23  turnover_2017   12636 non-null  float64\n",
      " 24  profit_2017     12636 non-null  float64\n",
      " 25  debts_2017      12636 non-null  float64\n",
      " 26  employees_2017  12636 non-null  float64\n",
      " 27  turnover_2016   11342 non-null  float64\n",
      " 28  profit_2016     11342 non-null  float64\n",
      " 29  debts_2016      11342 non-null  float64\n",
      " 30  employees_2016  11342 non-null  float64\n",
      " 31  turnover_2015   10264 non-null  float64\n",
      " 32  profit_2015     10264 non-null  float64\n",
      " 33  debts_2015      10264 non-null  float64\n",
      " 34  employees_2015  10264 non-null  float64\n",
      " 35  turnover_2014   9521 non-null   float64\n",
      " 36  profit_2014     9521 non-null   float64\n",
      " 37  debts_2014      9521 non-null   float64\n",
      " 38  employees_2014  9521 non-null   float64\n",
      " 39  turnover_2013   8933 non-null   float64\n",
      " 40  profit_2013     8933 non-null   float64\n",
      " 41  debts_2013      8933 non-null   float64\n",
      " 42  employees_2013  8933 non-null   float64\n",
      " 43  turnover_2012   8324 non-null   float64\n",
      " 44  profit_2012     8324 non-null   float64\n",
      " 45  debts_2012      8324 non-null   float64\n",
      " 46  employees_2012  8324 non-null   float64\n",
      " 47  turnover_2011   7788 non-null   float64\n",
      " 48  profit_2011     7788 non-null   float64\n",
      " 49  debts_2011      7788 non-null   float64\n",
      " 50  employees_2011  7788 non-null   float64\n",
      " 51  turnover_2010   7283 non-null   float64\n",
      " 52  profit_2010     7283 non-null   float64\n",
      " 53  debts_2010      7283 non-null   float64\n",
      " 54  employees_2010  7283 non-null   float64\n",
      " 55  turnover_2009   6934 non-null   float64\n",
      " 56  profit_2009     6934 non-null   float64\n",
      " 57  debts_2009      6934 non-null   float64\n",
      " 58  employees_2009  6934 non-null   float64\n",
      " 59  turnover_2008   6674 non-null   float64\n",
      " 60  profit_2008     6674 non-null   float64\n",
      " 61  debts_2008      6674 non-null   float64\n",
      " 62  employees_2008  6674 non-null   float64\n",
      " 63  turnover_2007   6071 non-null   float64\n",
      " 64  profit_2007     6071 non-null   float64\n",
      " 65  debts_2007      6071 non-null   float64\n",
      " 66  employees_2007  6071 non-null   float64\n",
      " 67  turnover_2006   5425 non-null   float64\n",
      " 68  profit_2006     5425 non-null   float64\n",
      " 69  debts_2006      5425 non-null   float64\n",
      " 70  employees_2006  5425 non-null   float64\n",
      " 71  turnover_2005   4859 non-null   float64\n",
      " 72  profit_2005     4859 non-null   float64\n",
      " 73  debts_2005      4859 non-null   float64\n",
      " 74  employees_2005  4859 non-null   float64\n",
      "dtypes: float64(72), int64(2), object(1)\n",
      "memory usage: 11.5+ MB\n",
      "None\n",
      "_____________________________________________\n",
      "                 id       founded  turnover_2022   profit_2022    debts_2022  \\\n",
      "count  2.013900e+04  20139.000000   1.933900e+04  1.933900e+04  1.933900e+04   \n",
      "mean   2.990184e+07   2011.678733   5.703808e+05  2.949844e+04  2.635100e+05   \n",
      "std    1.335456e+07      8.891578   2.076620e+07  6.536063e+05  7.672877e+06   \n",
      "min    6.133400e+04   1991.000000  -2.587000e+03 -7.254303e+07 -4.367400e+04   \n",
      "25%    1.814043e+07   2005.000000   3.053500e+03 -5.000000e+00  1.569000e+03   \n",
      "50%    3.441545e+07   2015.000000   2.707400e+04  3.055000e+03  1.037500e+04   \n",
      "75%    4.099241e+07   2019.000000   9.915300e+04  1.952050e+04  4.949350e+04   \n",
      "max    4.738927e+07   2022.000000   2.774259e+09  1.799923e+07  8.434641e+08   \n",
      "\n",
      "       employees_2022  turnover_2021   profit_2021    debts_2021  \\\n",
      "count    19339.000000   1.792800e+04  1.792800e+04  1.792800e+04   \n",
      "mean         4.737835   4.666023e+05  3.101671e+04  2.175438e+05   \n",
      "std         47.094422   1.186339e+07  2.935262e+05  4.927557e+06   \n",
      "min          0.000000  -2.688000e+03 -1.336605e+07 -1.052310e+05   \n",
      "25%          0.000000   3.109000e+03  0.000000e+00  1.434750e+03   \n",
      "50%          1.000000   2.529350e+04  2.821500e+03  9.952000e+03   \n",
      "75%          2.000000   9.038150e+04  1.748150e+04  4.682725e+04   \n",
      "max       5384.000000   1.378702e+09  1.787672e+07  4.753313e+08   \n",
      "\n",
      "       employees_2021  ...    debts_2007  employees_2007  turnover_2006  \\\n",
      "count    17928.000000  ...  6.071000e+03     6071.000000   5.425000e+03   \n",
      "mean         4.943552  ...  2.320260e+05       10.890133   4.790753e+05   \n",
      "std         48.493492  ...  2.813726e+06      113.174818   1.050049e+07   \n",
      "min          0.000000  ...  0.000000e+00        0.000000   0.000000e+00   \n",
      "25%          0.000000  ...  5.439000e+03        1.000000   9.243000e+03   \n",
      "50%          1.000000  ...  2.049500e+04        2.000000   3.647400e+04   \n",
      "75%          3.000000  ...  7.366550e+04        6.000000   1.316050e+05   \n",
      "max       5314.000000  ...  1.596989e+08     7846.000000   7.355279e+08   \n",
      "\n",
      "        profit_2006    debts_2006  employees_2006  turnover_2005  \\\n",
      "count  5.425000e+03  5.425000e+03     5425.000000   4.859000e+03   \n",
      "mean   2.665815e+04  1.932981e+05       11.778986   4.065722e+05   \n",
      "std    3.702212e+05  2.797973e+06      128.155818   8.692775e+06   \n",
      "min   -1.219004e+06  0.000000e+00        0.000000   0.000000e+00   \n",
      "25%   -1.970000e+02  4.830000e+03        1.000000   8.185000e+03   \n",
      "50%    1.395000e+03  1.788400e+04        2.000000   3.007300e+04   \n",
      "75%    1.025800e+04  6.577500e+04        6.000000   1.077820e+05   \n",
      "max    2.563031e+07  1.804905e+08     8563.000000   5.697520e+08   \n",
      "\n",
      "        profit_2005    debts_2005  employees_2005  \n",
      "count  4.859000e+03  4.859000e+03     4859.000000  \n",
      "mean   9.022430e+03  1.380330e+05       12.996913  \n",
      "std    4.934833e+05  1.547225e+06      147.254623  \n",
      "min   -3.315123e+07 -1.012000e+03        0.000000  \n",
      "25%   -1.000000e+02  3.432500e+03        1.000000  \n",
      "50%    1.344000e+03  1.370800e+04        2.000000  \n",
      "75%    8.205000e+03  4.986900e+04        6.000000  \n",
      "max    4.670442e+06  7.690248e+07     9377.000000  \n",
      "\n",
      "[8 rows x 74 columns]\n"
     ]
    },
    {
     "data": {
      "text/html": [
       "<div>\n",
       "<style scoped>\n",
       "    .dataframe tbody tr th:only-of-type {\n",
       "        vertical-align: middle;\n",
       "    }\n",
       "\n",
       "    .dataframe tbody tr th {\n",
       "        vertical-align: top;\n",
       "    }\n",
       "\n",
       "    .dataframe thead th {\n",
       "        text-align: right;\n",
       "    }\n",
       "</style>\n",
       "<table border=\"1\" class=\"dataframe\">\n",
       "  <thead>\n",
       "    <tr style=\"text-align: right;\">\n",
       "      <th></th>\n",
       "      <th>id</th>\n",
       "      <th>founded</th>\n",
       "      <th>location</th>\n",
       "      <th>turnover_2022</th>\n",
       "      <th>profit_2022</th>\n",
       "      <th>debts_2022</th>\n",
       "      <th>employees_2022</th>\n",
       "      <th>turnover_2021</th>\n",
       "      <th>profit_2021</th>\n",
       "      <th>debts_2021</th>\n",
       "      <th>...</th>\n",
       "      <th>debts_2007</th>\n",
       "      <th>employees_2007</th>\n",
       "      <th>turnover_2006</th>\n",
       "      <th>profit_2006</th>\n",
       "      <th>debts_2006</th>\n",
       "      <th>employees_2006</th>\n",
       "      <th>turnover_2005</th>\n",
       "      <th>profit_2005</th>\n",
       "      <th>debts_2005</th>\n",
       "      <th>employees_2005</th>\n",
       "    </tr>\n",
       "  </thead>\n",
       "  <tbody>\n",
       "    <tr>\n",
       "      <th>0</th>\n",
       "      <td>12056960</td>\n",
       "      <td>1999</td>\n",
       "      <td>Loc. Targu Mures</td>\n",
       "      <td>20994.0</td>\n",
       "      <td>1461.0</td>\n",
       "      <td>8204.0</td>\n",
       "      <td>0.0</td>\n",
       "      <td>65014.0</td>\n",
       "      <td>11451.0</td>\n",
       "      <td>19414.0</td>\n",
       "      <td>...</td>\n",
       "      <td>12021.0</td>\n",
       "      <td>0.0</td>\n",
       "      <td>444.0</td>\n",
       "      <td>-979.0</td>\n",
       "      <td>13.0</td>\n",
       "      <td>0.0</td>\n",
       "      <td>38791.0</td>\n",
       "      <td>24547.0</td>\n",
       "      <td>2158.0</td>\n",
       "      <td>0.0</td>\n",
       "    </tr>\n",
       "    <tr>\n",
       "      <th>1</th>\n",
       "      <td>10666988</td>\n",
       "      <td>1999</td>\n",
       "      <td>Loc. Sighisoara</td>\n",
       "      <td>147322811.0</td>\n",
       "      <td>9439869.0</td>\n",
       "      <td>22280864.0</td>\n",
       "      <td>423.0</td>\n",
       "      <td>112422027.0</td>\n",
       "      <td>6752691.0</td>\n",
       "      <td>13066302.0</td>\n",
       "      <td>...</td>\n",
       "      <td>6646370.0</td>\n",
       "      <td>416.0</td>\n",
       "      <td>46807963.0</td>\n",
       "      <td>2219596.0</td>\n",
       "      <td>3628111.0</td>\n",
       "      <td>424.0</td>\n",
       "      <td>37239539.0</td>\n",
       "      <td>3846087.0</td>\n",
       "      <td>2963655.0</td>\n",
       "      <td>418.0</td>\n",
       "    </tr>\n",
       "    <tr>\n",
       "      <th>2</th>\n",
       "      <td>10023982</td>\n",
       "      <td>1997</td>\n",
       "      <td>Loc. Targu Mures</td>\n",
       "      <td>37162.0</td>\n",
       "      <td>-7077.0</td>\n",
       "      <td>2726.0</td>\n",
       "      <td>4.0</td>\n",
       "      <td>74470.0</td>\n",
       "      <td>-7729.0</td>\n",
       "      <td>5009.0</td>\n",
       "      <td>...</td>\n",
       "      <td>146285.0</td>\n",
       "      <td>16.0</td>\n",
       "      <td>54983.0</td>\n",
       "      <td>126498.0</td>\n",
       "      <td>86423.0</td>\n",
       "      <td>17.0</td>\n",
       "      <td>81442.0</td>\n",
       "      <td>-20777.0</td>\n",
       "      <td>139619.0</td>\n",
       "      <td>17.0</td>\n",
       "    </tr>\n",
       "  </tbody>\n",
       "</table>\n",
       "<p>3 rows × 75 columns</p>\n",
       "</div>"
      ],
      "text/plain": [
       "         id  founded          location  turnover_2022  profit_2022  \\\n",
       "0  12056960     1999  Loc. Targu Mures        20994.0       1461.0   \n",
       "1  10666988     1999   Loc. Sighisoara    147322811.0    9439869.0   \n",
       "2  10023982     1997  Loc. Targu Mures        37162.0      -7077.0   \n",
       "\n",
       "   debts_2022  employees_2022  turnover_2021  profit_2021  debts_2021  ...  \\\n",
       "0      8204.0             0.0        65014.0      11451.0     19414.0  ...   \n",
       "1  22280864.0           423.0    112422027.0    6752691.0  13066302.0  ...   \n",
       "2      2726.0             4.0        74470.0      -7729.0      5009.0  ...   \n",
       "\n",
       "   debts_2007  employees_2007  turnover_2006  profit_2006  debts_2006  \\\n",
       "0     12021.0             0.0          444.0       -979.0        13.0   \n",
       "1   6646370.0           416.0     46807963.0    2219596.0   3628111.0   \n",
       "2    146285.0            16.0        54983.0     126498.0     86423.0   \n",
       "\n",
       "   employees_2006  turnover_2005  profit_2005  debts_2005  employees_2005  \n",
       "0             0.0        38791.0      24547.0      2158.0             0.0  \n",
       "1           424.0     37239539.0    3846087.0   2963655.0           418.0  \n",
       "2            17.0        81442.0     -20777.0    139619.0            17.0  \n",
       "\n",
       "[3 rows x 75 columns]"
      ]
     },
     "metadata": {},
     "output_type": "display_data"
    }
   ],
   "source": [
    "# EDA for the REFINED CSV\n",
    "print('DF - REFINED.CSV EDA')\n",
    "print(df.info())\n",
    "print('_________'*5)\n",
    "print(df.describe())\n",
    "display(df.head(3))"
   ]
  },
  {
   "cell_type": "code",
   "execution_count": 29,
   "metadata": {},
   "outputs": [
    {
     "name": "stdout",
     "output_type": "stream",
     "text": [
      "FIN - FINANCIALS.CSV EDA\n",
      "<class 'pandas.core.frame.DataFrame'>\n",
      "RangeIndex: 189064 entries, 0 to 189063\n",
      "Data columns (total 6 columns):\n",
      " #   Column     Non-Null Count   Dtype\n",
      "---  ------     --------------   -----\n",
      " 0   year       189064 non-null  int64\n",
      " 1   id         189064 non-null  int64\n",
      " 2   employees  189064 non-null  int64\n",
      " 3   turnover   189064 non-null  int64\n",
      " 4   profit     189064 non-null  int64\n",
      " 5   debts      189064 non-null  int64\n",
      "dtypes: int64(6)\n",
      "memory usage: 8.7 MB\n",
      "None\n",
      "_____________________________________________\n",
      "                year            id      employees      turnover        profit  \\\n",
      "count  189064.000000  1.890640e+05  189064.000000  1.890640e+05  1.890640e+05   \n",
      "mean     2015.587404  2.136939e+07       7.056293  4.704307e+05  2.534963e+04   \n",
      "std         4.981324  1.238239e+07      62.933255  1.187683e+07  7.374805e+05   \n",
      "min      2005.000000  6.133400e+04       0.000000 -2.724400e+04 -7.254303e+07   \n",
      "25%      2012.000000  1.330003e+07       0.000000  5.073000e+03 -4.040000e+02   \n",
      "50%      2017.000000  1.875940e+07       1.000000  2.761750e+04  1.356000e+03   \n",
      "75%      2020.000000  3.214651e+07       4.000000  1.028642e+05  1.143525e+04   \n",
      "max      2022.000000  4.738927e+07    9377.000000  2.774259e+09  1.191976e+08   \n",
      "\n",
      "              debts  \n",
      "count  1.890640e+05  \n",
      "mean   2.259006e+05  \n",
      "std    4.476999e+06  \n",
      "min   -1.052310e+05  \n",
      "25%    2.702000e+03  \n",
      "50%    1.500600e+04  \n",
      "75%    6.032625e+04  \n",
      "max    8.434641e+08  \n"
     ]
    },
    {
     "data": {
      "text/html": [
       "<div>\n",
       "<style scoped>\n",
       "    .dataframe tbody tr th:only-of-type {\n",
       "        vertical-align: middle;\n",
       "    }\n",
       "\n",
       "    .dataframe tbody tr th {\n",
       "        vertical-align: top;\n",
       "    }\n",
       "\n",
       "    .dataframe thead th {\n",
       "        text-align: right;\n",
       "    }\n",
       "</style>\n",
       "<table border=\"1\" class=\"dataframe\">\n",
       "  <thead>\n",
       "    <tr style=\"text-align: right;\">\n",
       "      <th></th>\n",
       "      <th>year</th>\n",
       "      <th>id</th>\n",
       "      <th>employees</th>\n",
       "      <th>turnover</th>\n",
       "      <th>profit</th>\n",
       "      <th>debts</th>\n",
       "    </tr>\n",
       "  </thead>\n",
       "  <tbody>\n",
       "    <tr>\n",
       "      <th>0</th>\n",
       "      <td>2005</td>\n",
       "      <td>61334</td>\n",
       "      <td>1</td>\n",
       "      <td>13477</td>\n",
       "      <td>1563</td>\n",
       "      <td>2162</td>\n",
       "    </tr>\n",
       "    <tr>\n",
       "      <th>1</th>\n",
       "      <td>2005</td>\n",
       "      <td>200106</td>\n",
       "      <td>243</td>\n",
       "      <td>31400665</td>\n",
       "      <td>217953</td>\n",
       "      <td>16318096</td>\n",
       "    </tr>\n",
       "    <tr>\n",
       "      <th>2</th>\n",
       "      <td>2005</td>\n",
       "      <td>236061</td>\n",
       "      <td>0</td>\n",
       "      <td>0</td>\n",
       "      <td>-18</td>\n",
       "      <td>136</td>\n",
       "    </tr>\n",
       "  </tbody>\n",
       "</table>\n",
       "</div>"
      ],
      "text/plain": [
       "   year      id  employees  turnover  profit     debts\n",
       "0  2005   61334          1     13477    1563      2162\n",
       "1  2005  200106        243  31400665  217953  16318096\n",
       "2  2005  236061          0         0     -18       136"
      ]
     },
     "metadata": {},
     "output_type": "display_data"
    }
   ],
   "source": [
    "# EDA for the FINANCIALS CSV\n",
    "print('FIN - FINANCIALS.CSV EDA')\n",
    "print(fin.info())\n",
    "print('_________'*5)\n",
    "print(fin.describe())\n",
    "display(fin.head(3))"
   ]
  },
  {
   "cell_type": "markdown",
   "metadata": {},
   "source": [
    "We only need the **Years** as **year** and **Value_EUR** as **gdp**."
   ]
  },
  {
   "cell_type": "code",
   "execution_count": 30,
   "metadata": {},
   "outputs": [
    {
     "name": "stdout",
     "output_type": "stream",
     "text": [
      "GDP - REGION_GDP.CSV EDA\n",
      "<class 'pandas.core.frame.DataFrame'>\n",
      "RangeIndex: 18 entries, 0 to 17\n",
      "Data columns (total 6 columns):\n",
      " #   Column     Non-Null Count  Dtype  \n",
      "---  ------     --------------  -----  \n",
      " 0   Years      18 non-null     int64  \n",
      " 1   LEI        18 non-null     object \n",
      " 2   Value_LEI  18 non-null     float64\n",
      " 3   EUR        18 non-null     object \n",
      " 4   Value_EUR  18 non-null     float64\n",
      " 5   Rate       18 non-null     float64\n",
      "dtypes: float64(3), int64(1), object(2)\n",
      "memory usage: 996.0+ bytes\n",
      "None\n",
      "_____________________________________________\n",
      "             Years     Value_LEI    Value_EUR       Rate\n",
      "count    18.000000     18.000000    18.000000  18.000000\n",
      "mean   2013.500000  16036.316667  3569.905556   4.378333\n",
      "std       5.338539   6538.895980  1140.695128   0.456679\n",
      "min    2005.000000   6815.900000  1853.600000   3.380000\n",
      "25%    2009.250000  11564.975000  2852.357500   4.242500\n",
      "50%    2013.500000  14186.800000  3183.675000   4.480000\n",
      "75%    2017.750000  20219.375000  4336.157500   4.660000\n",
      "max    2022.000000  29605.500000  5984.060000   4.950000\n"
     ]
    },
    {
     "data": {
      "text/html": [
       "<div>\n",
       "<style scoped>\n",
       "    .dataframe tbody tr th:only-of-type {\n",
       "        vertical-align: middle;\n",
       "    }\n",
       "\n",
       "    .dataframe tbody tr th {\n",
       "        vertical-align: top;\n",
       "    }\n",
       "\n",
       "    .dataframe thead th {\n",
       "        text-align: right;\n",
       "    }\n",
       "</style>\n",
       "<table border=\"1\" class=\"dataframe\">\n",
       "  <thead>\n",
       "    <tr style=\"text-align: right;\">\n",
       "      <th></th>\n",
       "      <th>Years</th>\n",
       "      <th>LEI</th>\n",
       "      <th>Value_LEI</th>\n",
       "      <th>EUR</th>\n",
       "      <th>Value_EUR</th>\n",
       "      <th>Rate</th>\n",
       "    </tr>\n",
       "  </thead>\n",
       "  <tbody>\n",
       "    <tr>\n",
       "      <th>0</th>\n",
       "      <td>2005</td>\n",
       "      <td>Millions lei</td>\n",
       "      <td>6815.9</td>\n",
       "      <td>Millions eur</td>\n",
       "      <td>1853.60</td>\n",
       "      <td>3.68</td>\n",
       "    </tr>\n",
       "    <tr>\n",
       "      <th>1</th>\n",
       "      <td>2006</td>\n",
       "      <td>Millions lei</td>\n",
       "      <td>8103.6</td>\n",
       "      <td>Millions eur</td>\n",
       "      <td>2396.31</td>\n",
       "      <td>3.38</td>\n",
       "    </tr>\n",
       "    <tr>\n",
       "      <th>2</th>\n",
       "      <td>2007</td>\n",
       "      <td>Millions lei</td>\n",
       "      <td>10288.1</td>\n",
       "      <td>Millions eur</td>\n",
       "      <td>2849.75</td>\n",
       "      <td>3.61</td>\n",
       "    </tr>\n",
       "  </tbody>\n",
       "</table>\n",
       "</div>"
      ],
      "text/plain": [
       "   Years           LEI  Value_LEI           EUR  Value_EUR  Rate\n",
       "0   2005  Millions lei     6815.9  Millions eur    1853.60  3.68\n",
       "1   2006  Millions lei     8103.6  Millions eur    2396.31  3.38\n",
       "2   2007  Millions lei    10288.1  Millions eur    2849.75  3.61"
      ]
     },
     "metadata": {},
     "output_type": "display_data"
    }
   ],
   "source": [
    "# EDA for the REGION GDP CSV\n",
    "print('GDP - REGION_GDP.CSV EDA')\n",
    "print(gdp.info())\n",
    "print('_________'*5)\n",
    "print(gdp.describe())\n",
    "display(gdp.head(3))"
   ]
  },
  {
   "cell_type": "markdown",
   "metadata": {},
   "source": [
    "We can see many missing values. We'll cross check either the **financials** or the **refined** datasets for the company id to see if all of them are found within the dataframe. If they are, then we take the locations of those that do appear. If all of our companies also show up with a code, then we might be able to use it in some way to show whether a company is still active or not. However we must be careful since we only get a code, and not also a year of when a company stopped being active, or when they re-started their activity."
   ]
  },
  {
   "cell_type": "code",
   "execution_count": 31,
   "metadata": {},
   "outputs": [
    {
     "name": "stdout",
     "output_type": "stream",
     "text": [
      "STATES - STATES.CSV EDA\n",
      "<class 'pandas.core.frame.DataFrame'>\n",
      "RangeIndex: 91661 entries, 0 to 91660\n",
      "Data columns (total 6 columns):\n",
      " #   Column        Non-Null Count  Dtype  \n",
      "---  ------        --------------  -----  \n",
      " 0   name          91661 non-null  object \n",
      " 1   id            86976 non-null  float64\n",
      " 2   registration  91661 non-null  object \n",
      " 3   euid          91661 non-null  object \n",
      " 4   state         75737 non-null  float64\n",
      " 5   location      91660 non-null  object \n",
      "dtypes: float64(2), object(4)\n",
      "memory usage: 4.2+ MB\n",
      "None\n",
      "_____________________________________________\n",
      "                 id         state\n",
      "count  8.697600e+04  75737.000000\n",
      "mean   2.554579e+07   1070.573894\n",
      "std    1.467381e+07     17.345674\n",
      "min    0.000000e+00   1048.000000\n",
      "25%    1.482521e+07   1048.000000\n",
      "50%    2.569016e+07   1084.000000\n",
      "75%    3.780218e+07   1084.000000\n",
      "max    1.216209e+09   1145.000000\n"
     ]
    },
    {
     "data": {
      "text/html": [
       "<div>\n",
       "<style scoped>\n",
       "    .dataframe tbody tr th:only-of-type {\n",
       "        vertical-align: middle;\n",
       "    }\n",
       "\n",
       "    .dataframe tbody tr th {\n",
       "        vertical-align: top;\n",
       "    }\n",
       "\n",
       "    .dataframe thead th {\n",
       "        text-align: right;\n",
       "    }\n",
       "</style>\n",
       "<table border=\"1\" class=\"dataframe\">\n",
       "  <thead>\n",
       "    <tr style=\"text-align: right;\">\n",
       "      <th></th>\n",
       "      <th>name</th>\n",
       "      <th>id</th>\n",
       "      <th>registration</th>\n",
       "      <th>euid</th>\n",
       "      <th>state</th>\n",
       "      <th>location</th>\n",
       "    </tr>\n",
       "  </thead>\n",
       "  <tbody>\n",
       "    <tr>\n",
       "      <th>0</th>\n",
       "      <td>DARABANT HORVATH ISTVAN ÎNTREPRINDERE INDIVIDUALĂ</td>\n",
       "      <td>33462634.0</td>\n",
       "      <td>F26/869/2014</td>\n",
       "      <td>ROONRC.F26/869/2014</td>\n",
       "      <td>NaN</td>\n",
       "      <td>Municipiul Târgu Mureş</td>\n",
       "    </tr>\n",
       "    <tr>\n",
       "      <th>1</th>\n",
       "      <td>NAGY I  ILONA IBOLYA ÎNTREPRINDERE INDIVIDUALĂ</td>\n",
       "      <td>33462618.0</td>\n",
       "      <td>F26/870/2014</td>\n",
       "      <td>ROONRC.F26/870/2014</td>\n",
       "      <td>1048.0</td>\n",
       "      <td>Municipiul Târgu Mureş</td>\n",
       "    </tr>\n",
       "    <tr>\n",
       "      <th>2</th>\n",
       "      <td>POP MIREL OVIDIU PERSOANĂ FIZICĂ AUTORIZATĂ</td>\n",
       "      <td>33462600.0</td>\n",
       "      <td>F26/871/2014</td>\n",
       "      <td>ROONRC.F26/871/2014</td>\n",
       "      <td>1048.0</td>\n",
       "      <td>Municipiul Târgu Mureş</td>\n",
       "    </tr>\n",
       "  </tbody>\n",
       "</table>\n",
       "</div>"
      ],
      "text/plain": [
       "                                                name          id  \\\n",
       "0  DARABANT HORVATH ISTVAN ÎNTREPRINDERE INDIVIDUALĂ  33462634.0   \n",
       "1     NAGY I  ILONA IBOLYA ÎNTREPRINDERE INDIVIDUALĂ  33462618.0   \n",
       "2        POP MIREL OVIDIU PERSOANĂ FIZICĂ AUTORIZATĂ  33462600.0   \n",
       "\n",
       "   registration                 euid   state                location  \n",
       "0  F26/869/2014  ROONRC.F26/869/2014     NaN  Municipiul Târgu Mureş  \n",
       "1  F26/870/2014  ROONRC.F26/870/2014  1048.0  Municipiul Târgu Mureş  \n",
       "2  F26/871/2014  ROONRC.F26/871/2014  1048.0  Municipiul Târgu Mureş  "
      ]
     },
     "metadata": {},
     "output_type": "display_data"
    }
   ],
   "source": [
    "# EDA for the STATES CSV\n",
    "print('STATES - STATES.CSV EDA')\n",
    "print(states.info())\n",
    "print('_________'*5)\n",
    "print(states.describe())\n",
    "display(states.head(3))"
   ]
  },
  {
   "cell_type": "markdown",
   "metadata": {},
   "source": [
    "### Cleaning"
   ]
  },
  {
   "cell_type": "code",
   "execution_count": 32,
   "metadata": {},
   "outputs": [
    {
     "name": "stdout",
     "output_type": "stream",
     "text": [
      "0\n",
      "name                0\n",
      "id                  0\n",
      "registration        0\n",
      "euid                0\n",
      "state           15924\n",
      "location            1\n",
      "dtype: int64\n"
     ]
    },
    {
     "data": {
      "text/html": [
       "<div>\n",
       "<style scoped>\n",
       "    .dataframe tbody tr th:only-of-type {\n",
       "        vertical-align: middle;\n",
       "    }\n",
       "\n",
       "    .dataframe tbody tr th {\n",
       "        vertical-align: top;\n",
       "    }\n",
       "\n",
       "    .dataframe thead th {\n",
       "        text-align: right;\n",
       "    }\n",
       "</style>\n",
       "<table border=\"1\" class=\"dataframe\">\n",
       "  <thead>\n",
       "    <tr style=\"text-align: right;\">\n",
       "      <th></th>\n",
       "      <th>id</th>\n",
       "    </tr>\n",
       "  </thead>\n",
       "  <tbody>\n",
       "    <tr>\n",
       "      <th>0</th>\n",
       "      <td>33462634</td>\n",
       "    </tr>\n",
       "    <tr>\n",
       "      <th>1</th>\n",
       "      <td>33462618</td>\n",
       "    </tr>\n",
       "    <tr>\n",
       "      <th>2</th>\n",
       "      <td>33462600</td>\n",
       "    </tr>\n",
       "  </tbody>\n",
       "</table>\n",
       "</div>"
      ],
      "text/plain": [
       "         id\n",
       "0  33462634\n",
       "1  33462618\n",
       "2  33462600"
      ]
     },
     "metadata": {},
     "output_type": "display_data"
    }
   ],
   "source": [
    "# dropping the 'id' missing values, duplicates, and converting the id to\n",
    "# the same datatype as the id in df\n",
    "states = states.dropna(subset=['id'])\n",
    "states['id'] = states['id'].astype(np.int64)\n",
    "states = states[~states['id'].duplicated()]\n",
    "print(states['id'].duplicated().sum())\n",
    "print(states.isna().sum())\n",
    "display(states[['id']].head(3))"
   ]
  },
  {
   "cell_type": "code",
   "execution_count": 33,
   "metadata": {},
   "outputs": [],
   "source": [
    "# making a new dataframe with the id, and the location from 'df' and 'states'\n",
    "# we'll be using the 'states' locations as they are consistent, and don't have\n",
    "# different spellings for the same location. we might anonimize the locations later\n",
    "loc_df = df[['id','location']].copy()\n",
    "loc_df = pd.merge(loc_df, states[['id','location']], on='id', how='left')\n",
    "loc_df = loc_df.drop_duplicates()"
   ]
  },
  {
   "cell_type": "code",
   "execution_count": 34,
   "metadata": {},
   "outputs": [
    {
     "data": {
      "text/html": [
       "<div>\n",
       "<style scoped>\n",
       "    .dataframe tbody tr th:only-of-type {\n",
       "        vertical-align: middle;\n",
       "    }\n",
       "\n",
       "    .dataframe tbody tr th {\n",
       "        vertical-align: top;\n",
       "    }\n",
       "\n",
       "    .dataframe thead th {\n",
       "        text-align: right;\n",
       "    }\n",
       "</style>\n",
       "<table border=\"1\" class=\"dataframe\">\n",
       "  <thead>\n",
       "    <tr style=\"text-align: right;\">\n",
       "      <th></th>\n",
       "      <th>id</th>\n",
       "      <th>location_x</th>\n",
       "      <th>location_y</th>\n",
       "    </tr>\n",
       "  </thead>\n",
       "  <tbody>\n",
       "  </tbody>\n",
       "</table>\n",
       "</div>"
      ],
      "text/plain": [
       "Empty DataFrame\n",
       "Columns: [id, location_x, location_y]\n",
       "Index: []"
      ]
     },
     "metadata": {},
     "output_type": "display_data"
    },
    {
     "name": "stdout",
     "output_type": "stream",
     "text": [
      "There are 459 unique locations\n"
     ]
    }
   ],
   "source": [
    "# we have a few NaNs, so we fill the values for the location_y with the correct ones\n",
    "loc_df.loc[(loc_df['location_x'] == 'Loc. Ludus') & loc_df['location_y'].isnull(), 'location_y'] = 'Loc. Luduş, Oraş Luduş'\n",
    "loc_df.loc[(loc_df['location_x'].isin(['Loc. Targu Mures','Targu Mures'])) & loc_df['location_y'].isnull(), 'location_y'] = 'Municipiul Târgu Mureş'\n",
    "loc_df.loc[(loc_df['location_x'] == 'Sat Seleus, Com. Zagar') & loc_df['location_y'].isnull(), 'location_y'] = 'Sat Seleuş, Comuna Zagăr'\n",
    "loc_df.loc[(loc_df['location_x'] == 'Loc. Sighisoara') & loc_df['location_y'].isnull(), 'location_y'] = 'Municipiul Sighişoara'\n",
    "\n",
    "display(loc_df[loc_df['location_y'].isnull()])\n",
    "print('There are', len(loc_df['location_y'].unique()), 'unique locations')"
   ]
  },
  {
   "cell_type": "code",
   "execution_count": 35,
   "metadata": {},
   "outputs": [
    {
     "data": {
      "text/html": [
       "<div>\n",
       "<style scoped>\n",
       "    .dataframe tbody tr th:only-of-type {\n",
       "        vertical-align: middle;\n",
       "    }\n",
       "\n",
       "    .dataframe tbody tr th {\n",
       "        vertical-align: top;\n",
       "    }\n",
       "\n",
       "    .dataframe thead th {\n",
       "        text-align: right;\n",
       "    }\n",
       "</style>\n",
       "<table border=\"1\" class=\"dataframe\">\n",
       "  <thead>\n",
       "    <tr style=\"text-align: right;\">\n",
       "      <th></th>\n",
       "      <th>year</th>\n",
       "      <th>gdp</th>\n",
       "      <th>unit</th>\n",
       "    </tr>\n",
       "  </thead>\n",
       "  <tbody>\n",
       "    <tr>\n",
       "      <th>0</th>\n",
       "      <td>2005</td>\n",
       "      <td>1853.60</td>\n",
       "      <td>Millions eur</td>\n",
       "    </tr>\n",
       "    <tr>\n",
       "      <th>1</th>\n",
       "      <td>2006</td>\n",
       "      <td>2396.31</td>\n",
       "      <td>Millions eur</td>\n",
       "    </tr>\n",
       "    <tr>\n",
       "      <th>2</th>\n",
       "      <td>2007</td>\n",
       "      <td>2849.75</td>\n",
       "      <td>Millions eur</td>\n",
       "    </tr>\n",
       "  </tbody>\n",
       "</table>\n",
       "</div>"
      ],
      "text/plain": [
       "   year      gdp          unit\n",
       "0  2005  1853.60  Millions eur\n",
       "1  2006  2396.31  Millions eur\n",
       "2  2007  2849.75  Millions eur"
      ]
     },
     "execution_count": 35,
     "metadata": {},
     "output_type": "execute_result"
    }
   ],
   "source": [
    "# renaming the columns for the GDP dataframe, and dropping the other columns as they're not needed\n",
    "gdp.rename(columns={'Years':'year', 'Value_EUR':'gdp', 'EUR':'unit'}, inplace=True)\n",
    "gdp = gdp[['year','gdp','unit']]\n",
    "gdp.head(3)"
   ]
  },
  {
   "cell_type": "markdown",
   "metadata": {},
   "source": [
    "### Most of these visuals will have no titles or axis titles as they're going to be used for the presentation\n",
    "\n",
    "### Number of Companies Founded per Year"
   ]
  },
  {
   "cell_type": "code",
   "execution_count": 36,
   "metadata": {},
   "outputs": [
    {
     "data": {
      "image/png": "[encoded data removed]",
      "text/plain": [
       "<Figure size 1200x700 with 1 Axes>"
      ]
     },
     "metadata": {},
     "output_type": "display_data"
    }
   ],
   "source": [
    "companies_founded = df.groupby(['founded'])['id'].count().reset_index()\n",
    "companies_founded.rename(columns={'founded':'year','id':'count'}, inplace=True)\n",
    "sns.barplot(data=companies_founded.tail(18), x='year', y='count', color=colors[0])\n",
    "plt.xlabel('')\n",
    "plt.ylabel('')\n",
    "plt.show()"
   ]
  },
  {
   "cell_type": "markdown",
   "metadata": {},
   "source": [
    "### Region GDP Growth over Years"
   ]
  },
  {
   "cell_type": "code",
   "execution_count": 37,
   "metadata": {},
   "outputs": [
    {
     "data": {
      "image/png": "[encoded data removed]",
      "text/plain": [
       "<Figure size 1200x700 with 1 Axes>"
      ]
     },
     "metadata": {},
     "output_type": "display_data"
    }
   ],
   "source": [
    "sns.barplot(data=gdp, x='year', y='gdp', color=colors[0]).yaxis.set_major_formatter('€{x:1.0f} mn')\n",
    "plt.xlabel('')\n",
    "plt.ylabel('')\n",
    "plt.show()"
   ]
  },
  {
   "cell_type": "markdown",
   "metadata": {},
   "source": [
    "### % GDP Growth + % Number of Newly Registered Companies"
   ]
  },
  {
   "cell_type": "code",
   "execution_count": 38,
   "metadata": {},
   "outputs": [
    {
     "data": {
      "image/png": "[encoded data removed]",
      "text/plain": [
       "<Figure size 1200x700 with 1 Axes>"
      ]
     },
     "metadata": {},
     "output_type": "display_data"
    }
   ],
   "source": [
    "gdp_comp = pd.merge(gdp, companies_founded.tail(18), on='year', how='left')\n",
    "\n",
    "gdp_comp['gdp_pct'] = round((gdp_comp['gdp'] / gdp_comp['gdp'].max() * 100),2)\n",
    "gdp_comp['count_pct'] = round((gdp_comp['count'] / gdp_comp['count'].max() * 100),2)\n",
    "\n",
    "gdp_fig = gdp_comp.plot.bar(rot=0, color=colors, x='year', y=['gdp_pct','count_pct'])\n",
    "gdp_fig.get_legend().remove()\n",
    "gdp_fig.yaxis.set_major_formatter('{x:1.0f}%')\n",
    "plt.xlabel('')\n",
    "plt.ylabel('')\n",
    "plt.show()"
   ]
  },
  {
   "cell_type": "markdown",
   "metadata": {},
   "source": [
    "### Year on Year Change\n",
    "\n",
    "Change - Year on Year - in Numbers - How many companies that were active last year, aren't active this year.\n",
    "\n",
    "Difference between: Total Active Companies in Current Year, Newly Registered Companies in Current Year, Total Active Companies in Previous Year"
   ]
  },
  {
   "cell_type": "code",
   "execution_count": 39,
   "metadata": {},
   "outputs": [],
   "source": [
    "year_on_year = fin.groupby(['year'])['id'].count().reset_index()\n",
    "year_on_year = pd.merge(year_on_year, companies_founded[['year','count']], on='year', how='left')\n",
    "year_on_year.rename(columns={'id':'active','count':'founded'}, inplace=True)"
   ]
  },
  {
   "cell_type": "code",
   "execution_count": 40,
   "metadata": {},
   "outputs": [
    {
     "data": {
      "text/html": [
       "<div>\n",
       "<style scoped>\n",
       "    .dataframe tbody tr th:only-of-type {\n",
       "        vertical-align: middle;\n",
       "    }\n",
       "\n",
       "    .dataframe tbody tr th {\n",
       "        vertical-align: top;\n",
       "    }\n",
       "\n",
       "    .dataframe thead th {\n",
       "        text-align: right;\n",
       "    }\n",
       "</style>\n",
       "<table border=\"1\" class=\"dataframe\">\n",
       "  <thead>\n",
       "    <tr style=\"text-align: right;\">\n",
       "      <th></th>\n",
       "      <th>year</th>\n",
       "      <th>active</th>\n",
       "      <th>founded</th>\n",
       "      <th>diff</th>\n",
       "    </tr>\n",
       "  </thead>\n",
       "  <tbody>\n",
       "    <tr>\n",
       "      <th>15</th>\n",
       "      <td>2020</td>\n",
       "      <td>16553</td>\n",
       "      <td>1192</td>\n",
       "      <td>-48</td>\n",
       "    </tr>\n",
       "    <tr>\n",
       "      <th>16</th>\n",
       "      <td>2021</td>\n",
       "      <td>17927</td>\n",
       "      <td>1424</td>\n",
       "      <td>-50</td>\n",
       "    </tr>\n",
       "    <tr>\n",
       "      <th>17</th>\n",
       "      <td>2022</td>\n",
       "      <td>19337</td>\n",
       "      <td>1469</td>\n",
       "      <td>-59</td>\n",
       "    </tr>\n",
       "  </tbody>\n",
       "</table>\n",
       "</div>"
      ],
      "text/plain": [
       "    year  active  founded  diff\n",
       "15  2020   16553     1192   -48\n",
       "16  2021   17927     1424   -50\n",
       "17  2022   19337     1469   -59"
      ]
     },
     "execution_count": 40,
     "metadata": {},
     "output_type": "execute_result"
    }
   ],
   "source": [
    "founded = year_on_year['founded'].values\n",
    "act = year_on_year['active'].values\n",
    "diff = []\n",
    "\n",
    "for i in range(len(act)):\n",
    "    if i == 0:\n",
    "        diff.append(0)\n",
    "    else:\n",
    "        diff.append(act[i] - founded[i] - act[i-1])\n",
    "\n",
    "year_on_year['diff'] = diff\n",
    "year_on_year.tail(3)"
   ]
  },
  {
   "cell_type": "code",
   "execution_count": 41,
   "metadata": {},
   "outputs": [
    {
     "data": {
      "image/png": "[encoded data removed]",
      "text/plain": [
       "<Figure size 1200x700 with 1 Axes>"
      ]
     },
     "metadata": {},
     "output_type": "display_data"
    }
   ],
   "source": [
    "# difference between number of newly registered companies and the ones that either paused their activity or retook it (if 'diff' > 0)\n",
    "year_on_year.tail(4).plot.bar(rot=0, color=colors, x='year', y=['founded','diff']).get_legend().remove()\n",
    "plt.xlabel('')\n",
    "plt.ylabel('')\n",
    "plt.show()"
   ]
  },
  {
   "cell_type": "markdown",
   "metadata": {},
   "source": [
    "### Debt per Year"
   ]
  },
  {
   "cell_type": "code",
   "execution_count": 42,
   "metadata": {},
   "outputs": [
    {
     "data": {
      "image/png": "[encoded data removed]",
      "text/plain": [
       "<Figure size 1200x700 with 1 Axes>"
      ]
     },
     "metadata": {},
     "output_type": "display_data"
    }
   ],
   "source": [
    "yearly_total = fin.groupby('year').sum().reset_index()\n",
    "yearly_total['debts'] = yearly_total['debts'] / 1000000000\n",
    "yearly_total['profit'] = yearly_total['profit'] / 1000000\n",
    "yearly_total['turnover'] = yearly_total['turnover'] / 1000000000\n",
    "\n",
    "sns.barplot(data=yearly_total, x='year', y='debts', color=colors[0], ci=None).yaxis.set_major_formatter('€{x:1.2f} bn')\n",
    "plt.xlabel('')\n",
    "plt.ylabel('')\n",
    "plt.show()"
   ]
  },
  {
   "cell_type": "markdown",
   "metadata": {},
   "source": [
    "### Turnover vs Debts per Year"
   ]
  },
  {
   "cell_type": "code",
   "execution_count": 43,
   "metadata": {},
   "outputs": [
    {
     "data": {
      "image/png": "[encoded data removed]",
      "text/plain": [
       "<Figure size 1200x700 with 1 Axes>"
      ]
     },
     "metadata": {},
     "output_type": "display_data"
    }
   ],
   "source": [
    "fins_fig = yearly_total.plot.bar(x='year', y=['turnover', 'debts'], color=colors)\n",
    "fins_fig.get_legend().remove()\n",
    "fins_fig.yaxis.set_major_formatter('€{x:1.2f} bn')\n",
    "plt.xticks(rotation=0)\n",
    "plt.xlabel('')\n",
    "plt.ylabel('')\n",
    "plt.show()"
   ]
  },
  {
   "cell_type": "markdown",
   "metadata": {},
   "source": [
    "### Profit Total per Year"
   ]
  },
  {
   "cell_type": "code",
   "execution_count": 44,
   "metadata": {},
   "outputs": [
    {
     "data": {
      "image/png": "[encoded data removed]",
      "text/plain": [
       "<Figure size 1200x700 with 1 Axes>"
      ]
     },
     "metadata": {},
     "output_type": "display_data"
    }
   ],
   "source": [
    "profit_fig = yearly_total.plot.bar(x='year', y='profit', color=colors[0])\n",
    "profit_fig.get_legend().remove()\n",
    "profit_fig.yaxis.set_major_formatter('€{x:1.0f} mn')\n",
    "plt.xticks(rotation=0)\n",
    "plt.xlabel('')\n",
    "plt.ylabel('')\n",
    "plt.show()"
   ]
  },
  {
   "cell_type": "markdown",
   "metadata": {},
   "source": [
    "### 2019 (Pre-Pandemic) and 2020-2022 (Pandemic) - Profit of Companies total"
   ]
  },
  {
   "cell_type": "code",
   "execution_count": 45,
   "metadata": {},
   "outputs": [
    {
     "data": {
      "image/png": "[encoded data removed]",
      "text/plain": [
       "<Figure size 1200x700 with 1 Axes>"
      ]
     },
     "metadata": {},
     "output_type": "display_data"
    }
   ],
   "source": [
    "years_profits = yearly_total.tail(4).copy()\n",
    "years_profits = years_profits.iloc[::-1]\n",
    "\n",
    "plt.figure(figsize=(12,7))\n",
    "sns.barplot(data=years_profits, x='profit', y='year', palette=colors2, ci=None, orient='h', order=years_profits['year']).xaxis.set_major_formatter('')\n",
    "plt.tick_params(axis='y', which='major', pad=25)\n",
    "plt.yticks(fontsize=25, fontweight='bold', color='#1E1B39')\n",
    "plt.xlabel('')\n",
    "plt.ylabel('')\n",
    "plt.show()"
   ]
  },
  {
   "cell_type": "markdown",
   "metadata": {},
   "source": [
    "### Companies per location"
   ]
  },
  {
   "cell_type": "code",
   "execution_count": 46,
   "metadata": {},
   "outputs": [
    {
     "data": {
      "image/png": "[encoded data removed]",
      "text/plain": [
       "<Figure size 1200x700 with 1 Axes>"
      ]
     },
     "metadata": {},
     "output_type": "display_data"
    }
   ],
   "source": [
    "locations = loc_df.groupby('location_y')['id'].count().reset_index()\n",
    "locations.sort_values(by='id', ascending=False, inplace=True)\n",
    "locations\n",
    "\n",
    "sns.barplot(locations.head(5), x='id', y='location_y', orient='h', color=colors[0])\n",
    "plt.xlabel('')\n",
    "plt.ylabel('')\n",
    "plt.show()"
   ]
  },
  {
   "cell_type": "code",
   "execution_count": 47,
   "metadata": {},
   "outputs": [
    {
     "name": "stdout",
     "output_type": "stream",
     "text": [
      "First 5 contain 59.01% of all companies. The rest contain 40.99% of the total combined\n",
      "First 3 contain 52.93% of all companies. The rest contain 47.07% of the total combined\n",
      "Tg. Mures has 39.83%, Reghin has 7.65%, and Sighisoara has 5.46%\n"
     ]
    }
   ],
   "source": [
    "total_comp = locations.id.sum()\n",
    "total_top5 = locations.id.head(5).sum()\n",
    "total_rest = locations.id.iloc[5::].sum()\n",
    "\n",
    "pct_top5 = round((total_top5 / total_comp * 100),2)\n",
    "pct_top3 = round((locations.id.head(3).sum() / total_comp * 100),2)\n",
    "pct_rest5 = round((total_rest / total_comp * 100),2)\n",
    "pct_rest3 = round((locations.id.iloc[3::].sum() / total_comp * 100),2)\n",
    "\n",
    "pct_mures = round((locations.id.iloc[0] / total_comp * 100),2)\n",
    "pct_reghin = round((locations.id.iloc[1] / total_comp * 100),2)\n",
    "pct_sigh = round((locations.id.iloc[2] / total_comp * 100),2)\n",
    "\n",
    "print(f'First 5 contain {pct_top5}% of all companies. The rest contain {pct_rest5}% of the total combined')\n",
    "print(f'First 3 contain {pct_top3}% of all companies. The rest contain {pct_rest3}% of the total combined')\n",
    "print(f'Tg. Mures has {pct_mures}%, Reghin has {pct_reghin}%, and Sighisoara has {pct_sigh}%')"
   ]
  },
  {
   "cell_type": "markdown",
   "metadata": {},
   "source": [
    "### Contribution of Companies based on size to population, employment, turnover"
   ]
  },
  {
   "cell_type": "markdown",
   "metadata": {},
   "source": [
    "### Size of Company - By Number of Employees"
   ]
  },
  {
   "cell_type": "code",
   "execution_count": 48,
   "metadata": {},
   "outputs": [
    {
     "name": "stdout",
     "output_type": "stream",
     "text": [
      "Number of companies with NO employees:  7185 and with employees 12152\n",
      "Number of companies 0-249 employees:  19308 and 0-49:  19098\n",
      "Number LARGE companies 2022 29 and ALL companies: 19337\n"
     ]
    }
   ],
   "source": [
    "size_empl = fin.copy()\n",
    "size_empl.loc[size_empl['employees'].between(0,49), 'size'] = 'Small'\n",
    "size_empl.loc[size_empl['employees'].between(50,249), 'size'] = 'Medium'\n",
    "size_empl.loc[size_empl['employees'] >= 250, 'size'] = 'Large'\n",
    "\n",
    "size_empl.loc[size_empl['employees'] < 1, 'employer'] = 'No'\n",
    "size_empl.loc[size_empl['employees'] > 0, 'employer'] = 'Yes'\n",
    "\n",
    "print('Number of companies with NO employees: ',len(size_empl[(size_empl['employer'] == 'No') & (size_empl['year'] == 2022)]), 'and with employees', len(size_empl[(size_empl['employer'] == 'Yes') & (size_empl['year'] == 2022)]))\n",
    "print('Number of companies 0-249 employees: ',len(size_empl[(size_empl['size'].isin(['Small', 'Medium'])) & (size_empl['year'] == 2022)]), 'and 0-49: ', len(size_empl[(size_empl['size'].isin(['Small'])) & (size_empl['year'] == 2022)]))\n",
    "print('Number LARGE companies 2022', len(size_empl[(size_empl['size'].isin(['Large'])) & (size_empl['year'] == 2022)]), 'and ALL companies:', len(size_empl[(size_empl['year'] == 2022)]))"
   ]
  },
  {
   "cell_type": "code",
   "execution_count": 49,
   "metadata": {},
   "outputs": [
    {
     "data": {
      "text/html": [
       "<div>\n",
       "<style scoped>\n",
       "    .dataframe tbody tr th:only-of-type {\n",
       "        vertical-align: middle;\n",
       "    }\n",
       "\n",
       "    .dataframe tbody tr th {\n",
       "        vertical-align: top;\n",
       "    }\n",
       "\n",
       "    .dataframe thead th {\n",
       "        text-align: right;\n",
       "    }\n",
       "</style>\n",
       "<table border=\"1\" class=\"dataframe\">\n",
       "  <thead>\n",
       "    <tr style=\"text-align: right;\">\n",
       "      <th></th>\n",
       "      <th>year</th>\n",
       "      <th>size</th>\n",
       "      <th>employer</th>\n",
       "      <th>employees</th>\n",
       "      <th>turnover</th>\n",
       "      <th>profit</th>\n",
       "      <th>debts</th>\n",
       "    </tr>\n",
       "  </thead>\n",
       "  <tbody>\n",
       "    <tr>\n",
       "      <th>68</th>\n",
       "      <td>2022</td>\n",
       "      <td>Large</td>\n",
       "      <td>Yes</td>\n",
       "      <td>20471</td>\n",
       "      <td>5236683771</td>\n",
       "      <td>-60767816</td>\n",
       "      <td>2385203993</td>\n",
       "    </tr>\n",
       "    <tr>\n",
       "      <th>69</th>\n",
       "      <td>2022</td>\n",
       "      <td>Medium</td>\n",
       "      <td>Yes</td>\n",
       "      <td>21758</td>\n",
       "      <td>2011995921</td>\n",
       "      <td>117487620</td>\n",
       "      <td>768295524</td>\n",
       "    </tr>\n",
       "    <tr>\n",
       "      <th>70</th>\n",
       "      <td>2022</td>\n",
       "      <td>Small</td>\n",
       "      <td>No</td>\n",
       "      <td>0</td>\n",
       "      <td>134282690</td>\n",
       "      <td>41056462</td>\n",
       "      <td>229179253</td>\n",
       "    </tr>\n",
       "    <tr>\n",
       "      <th>71</th>\n",
       "      <td>2022</td>\n",
       "      <td>Small</td>\n",
       "      <td>Yes</td>\n",
       "      <td>49396</td>\n",
       "      <td>3647632004</td>\n",
       "      <td>472693983</td>\n",
       "      <td>1713341740</td>\n",
       "    </tr>\n",
       "  </tbody>\n",
       "</table>\n",
       "</div>"
      ],
      "text/plain": [
       "    year    size employer  employees    turnover     profit       debts\n",
       "68  2022   Large      Yes      20471  5236683771  -60767816  2385203993\n",
       "69  2022  Medium      Yes      21758  2011995921  117487620   768295524\n",
       "70  2022   Small       No          0   134282690   41056462   229179253\n",
       "71  2022   Small      Yes      49396  3647632004  472693983  1713341740"
      ]
     },
     "metadata": {},
     "output_type": "display_data"
    },
    {
     "data": {
      "text/html": [
       "<div>\n",
       "<style scoped>\n",
       "    .dataframe tbody tr th:only-of-type {\n",
       "        vertical-align: middle;\n",
       "    }\n",
       "\n",
       "    .dataframe tbody tr th {\n",
       "        vertical-align: top;\n",
       "    }\n",
       "\n",
       "    .dataframe thead th {\n",
       "        text-align: right;\n",
       "    }\n",
       "</style>\n",
       "<table border=\"1\" class=\"dataframe\">\n",
       "  <thead>\n",
       "    <tr style=\"text-align: right;\">\n",
       "      <th></th>\n",
       "      <th>year</th>\n",
       "      <th>size</th>\n",
       "      <th>employer</th>\n",
       "      <th>id</th>\n",
       "    </tr>\n",
       "  </thead>\n",
       "  <tbody>\n",
       "    <tr>\n",
       "      <th>68</th>\n",
       "      <td>2022</td>\n",
       "      <td>Large</td>\n",
       "      <td>Yes</td>\n",
       "      <td>29</td>\n",
       "    </tr>\n",
       "    <tr>\n",
       "      <th>69</th>\n",
       "      <td>2022</td>\n",
       "      <td>Medium</td>\n",
       "      <td>Yes</td>\n",
       "      <td>210</td>\n",
       "    </tr>\n",
       "    <tr>\n",
       "      <th>70</th>\n",
       "      <td>2022</td>\n",
       "      <td>Small</td>\n",
       "      <td>No</td>\n",
       "      <td>7185</td>\n",
       "    </tr>\n",
       "    <tr>\n",
       "      <th>71</th>\n",
       "      <td>2022</td>\n",
       "      <td>Small</td>\n",
       "      <td>Yes</td>\n",
       "      <td>11913</td>\n",
       "    </tr>\n",
       "  </tbody>\n",
       "</table>\n",
       "</div>"
      ],
      "text/plain": [
       "    year    size employer     id\n",
       "68  2022   Large      Yes     29\n",
       "69  2022  Medium      Yes    210\n",
       "70  2022   Small       No   7185\n",
       "71  2022   Small      Yes  11913"
      ]
     },
     "metadata": {},
     "output_type": "display_data"
    }
   ],
   "source": [
    "size_sum = size_empl.groupby(['year','size','employer']).sum().reset_index()\n",
    "display(size_sum.drop(columns='id').tail(4))\n",
    "\n",
    "size_sum2 = size_empl.groupby(['year','size','employer'])[['id']].count().reset_index()\n",
    "display(size_sum2.tail(4))"
   ]
  },
  {
   "cell_type": "code",
   "execution_count": 50,
   "metadata": {},
   "outputs": [
    {
     "data": {
      "text/html": [
       "<div>\n",
       "<style scoped>\n",
       "    .dataframe tbody tr th:only-of-type {\n",
       "        vertical-align: middle;\n",
       "    }\n",
       "\n",
       "    .dataframe tbody tr th {\n",
       "        vertical-align: top;\n",
       "    }\n",
       "\n",
       "    .dataframe thead th {\n",
       "        text-align: right;\n",
       "    }\n",
       "</style>\n",
       "<table border=\"1\" class=\"dataframe\">\n",
       "  <thead>\n",
       "    <tr style=\"text-align: right;\">\n",
       "      <th></th>\n",
       "      <th>size</th>\n",
       "      <th>id</th>\n",
       "      <th>employees</th>\n",
       "      <th>turnover</th>\n",
       "      <th>pct_pop</th>\n",
       "      <th>pct_emp</th>\n",
       "      <th>pct_to</th>\n",
       "    </tr>\n",
       "  </thead>\n",
       "  <tbody>\n",
       "    <tr>\n",
       "      <th>0</th>\n",
       "      <td>Large</td>\n",
       "      <td>29</td>\n",
       "      <td>20471</td>\n",
       "      <td>5236683771</td>\n",
       "      <td>0.1</td>\n",
       "      <td>22.3</td>\n",
       "      <td>47.5</td>\n",
       "    </tr>\n",
       "    <tr>\n",
       "      <th>1</th>\n",
       "      <td>Medium</td>\n",
       "      <td>210</td>\n",
       "      <td>21758</td>\n",
       "      <td>2011995921</td>\n",
       "      <td>1.1</td>\n",
       "      <td>23.7</td>\n",
       "      <td>18.2</td>\n",
       "    </tr>\n",
       "    <tr>\n",
       "      <th>2</th>\n",
       "      <td>Small</td>\n",
       "      <td>19098</td>\n",
       "      <td>49396</td>\n",
       "      <td>3781914694</td>\n",
       "      <td>98.8</td>\n",
       "      <td>53.9</td>\n",
       "      <td>34.3</td>\n",
       "    </tr>\n",
       "  </tbody>\n",
       "</table>\n",
       "</div>"
      ],
      "text/plain": [
       "     size     id  employees    turnover  pct_pop  pct_emp  pct_to\n",
       "0   Large     29      20471  5236683771      0.1     22.3    47.5\n",
       "1  Medium    210      21758  2011995921      1.1     23.7    18.2\n",
       "2   Small  19098      49396  3781914694     98.8     53.9    34.3"
      ]
     },
     "metadata": {},
     "output_type": "display_data"
    }
   ],
   "source": [
    "size_sum3 = size_empl[size_empl['year'] == 2022].groupby(['size'])[['id']].count().reset_index()\n",
    "size_sum3 = pd.merge(size_sum3,size_empl[size_empl['year'] == 2022].groupby(['size'])[['employees','turnover']].sum().reset_index(), on='size', how='left')\n",
    "size_sum3['pct_pop'] = round((size_sum3['id'] / size_sum3['id'].sum() * 100),1)\n",
    "size_sum3['pct_emp'] = round((size_sum3['employees'] / size_sum3['employees'].sum() * 100),1)\n",
    "size_sum3['pct_to'] = round((size_sum3['turnover'] / size_sum3['turnover'].sum() * 100),1)\n",
    "display(size_sum3)"
   ]
  },
  {
   "cell_type": "markdown",
   "metadata": {},
   "source": [
    "### Distribution of Companies and their characteristics"
   ]
  },
  {
   "cell_type": "code",
   "execution_count": 51,
   "metadata": {},
   "outputs": [
    {
     "data": {
      "image/png": "[encoded data removed]",
      "text/plain": [
       "<Figure size 1200x700 with 1 Axes>"
      ]
     },
     "metadata": {},
     "output_type": "display_data"
    }
   ],
   "source": [
    "size_fig = size_sum3[::-1].plot.bar(x='size', y=['pct_pop', 'pct_emp','pct_to'], color=colors)\n",
    "size_fig.get_legend().remove()\n",
    "size_fig.yaxis.set_major_formatter('{x:1.0f}%')\n",
    "plt.xticks(rotation=0)\n",
    "plt.xlabel('')\n",
    "plt.ylabel('')\n",
    "plt.show()"
   ]
  },
  {
   "cell_type": "markdown",
   "metadata": {},
   "source": [
    "### Profitability"
   ]
  },
  {
   "cell_type": "code",
   "execution_count": 52,
   "metadata": {},
   "outputs": [],
   "source": [
    "profitable = size_empl.copy()\n",
    "profitable.loc[profitable['profit'] == 0, 'prof'] = 'Break-even'\n",
    "profitable.loc[profitable['profit'] > 0, 'prof'] = 'Profitable'\n",
    "profitable.loc[profitable['profit'] < 0, 'prof'] = 'Not Profitable'\n",
    "\n",
    "profitable['prof_margin'] = round(((profitable['profit'] / profitable['turnover']) * 100),2)\n",
    "\n",
    "profitable.loc[profitable['prof_margin'].isnull(), 'prof_margin'] = 0\n",
    "profitable.loc[profitable['prof_margin'] == -np.inf, 'prof_margin'] = -100\n",
    "profitable.loc[profitable['prof_margin'] == np.inf, 'prof_margin'] = 100"
   ]
  },
  {
   "cell_type": "markdown",
   "metadata": {},
   "source": [
    "### Profitability % Breakdown"
   ]
  },
  {
   "cell_type": "code",
   "execution_count": 53,
   "metadata": {},
   "outputs": [
    {
     "name": "stdout",
     "output_type": "stream",
     "text": [
      "average number of companies based on profitability profile \n",
      "\n",
      " prof\n",
      "Break-even         4.901667\n",
      "Not Profitable    32.415556\n",
      "Profitable        62.683889\n",
      "Name: avg, dtype: float64\n"
     ]
    }
   ],
   "source": [
    "prof_count = profitable.groupby(['year','prof'])[['id']].count().reset_index()\n",
    "prof_avg = pd.merge(prof_count,year_on_year[['year','active']], on='year', how='left' )\n",
    "prof_avg['avg'] = round(((prof_avg['id']/prof_avg['active'] * 100)),2)\n",
    "\n",
    "print('average number of companies based on profitability profile \\n\\n', prof_avg.groupby('prof')['avg'].mean())"
   ]
  },
  {
   "cell_type": "markdown",
   "metadata": {},
   "source": [
    "### % Profitable Companies in 2022 - Graph"
   ]
  },
  {
   "cell_type": "code",
   "execution_count": 36,
   "metadata": {},
   "outputs": [
    {
     "data": {
      "image/png": "[encoded data removed]",
      "text/plain": [
       "<Figure size 1200x700 with 1 Axes>"
      ]
     },
     "metadata": {},
     "output_type": "display_data"
    }
   ],
   "source": [
    "p_fig = plt.figure()\n",
    "ax = p_fig.add_subplot(1,1,1)\n",
    "col = colors=colors[:3]\n",
    "col.append('white')\n",
    "ax.pie([13049,4870+1418], colors=['#4A3AFF','white'])\n",
    "ax.add_artist(plt.Circle((0,0), 0.87, color='white'))\n",
    "p_fig.show()\n"
   ]
  },
  {
   "cell_type": "code",
   "execution_count": 37,
   "metadata": {},
   "outputs": [
    {
     "data": {
      "image/png": "[encoded data removed]",
      "text/plain": [
       "<Figure size 1200x700 with 1 Axes>"
      ]
     },
     "metadata": {},
     "output_type": "display_data"
    },
    {
     "data": {
      "text/html": [
       "<div>\n",
       "<style scoped>\n",
       "    .dataframe tbody tr th:only-of-type {\n",
       "        vertical-align: middle;\n",
       "    }\n",
       "\n",
       "    .dataframe tbody tr th {\n",
       "        vertical-align: top;\n",
       "    }\n",
       "\n",
       "    .dataframe thead th {\n",
       "        text-align: right;\n",
       "    }\n",
       "</style>\n",
       "<table border=\"1\" class=\"dataframe\">\n",
       "  <thead>\n",
       "    <tr style=\"text-align: right;\">\n",
       "      <th></th>\n",
       "      <th>year</th>\n",
       "      <th>prof</th>\n",
       "      <th>id</th>\n",
       "      <th>pct</th>\n",
       "    </tr>\n",
       "  </thead>\n",
       "  <tbody>\n",
       "    <tr>\n",
       "      <th>51</th>\n",
       "      <td>2022</td>\n",
       "      <td>Break-even</td>\n",
       "      <td>1418</td>\n",
       "      <td>7.33</td>\n",
       "    </tr>\n",
       "    <tr>\n",
       "      <th>52</th>\n",
       "      <td>2022</td>\n",
       "      <td>Not Profitable</td>\n",
       "      <td>4870</td>\n",
       "      <td>25.18</td>\n",
       "    </tr>\n",
       "    <tr>\n",
       "      <th>53</th>\n",
       "      <td>2022</td>\n",
       "      <td>Profitable</td>\n",
       "      <td>13049</td>\n",
       "      <td>67.48</td>\n",
       "    </tr>\n",
       "  </tbody>\n",
       "</table>\n",
       "</div>"
      ],
      "text/plain": [
       "    year            prof     id    pct\n",
       "51  2022      Break-even   1418   7.33\n",
       "52  2022  Not Profitable   4870  25.18\n",
       "53  2022      Profitable  13049  67.48"
      ]
     },
     "execution_count": 37,
     "metadata": {},
     "output_type": "execute_result"
    }
   ],
   "source": [
    "prof_count_22 = prof_count[prof_count['year'] == 2022].copy()\n",
    "prof_count_22['pct'] = round(((prof_count_22['id']/ 19337 * 100)),2)\n",
    "sns.barplot(prof_count_22, x='year', y='id', hue='prof', palette=colors)\n",
    "plt.show()\n",
    "prof_count_22"
   ]
  },
  {
   "cell_type": "markdown",
   "metadata": {},
   "source": [
    "### Biggest Employers, Profit Margin % Companies that aren't employers\n",
    "\n",
    "Are there Large companies in other locations except the top 3 ones?"
   ]
  },
  {
   "cell_type": "code",
   "execution_count": 38,
   "metadata": {},
   "outputs": [
    {
     "name": "stdout",
     "output_type": "stream",
     "text": [
      "57 unique locations\n",
      "139 companies have no employees\n"
     ]
    },
    {
     "data": {
      "text/html": [
       "<div>\n",
       "<style scoped>\n",
       "    .dataframe tbody tr th:only-of-type {\n",
       "        vertical-align: middle;\n",
       "    }\n",
       "\n",
       "    .dataframe tbody tr th {\n",
       "        vertical-align: top;\n",
       "    }\n",
       "\n",
       "    .dataframe thead th {\n",
       "        text-align: right;\n",
       "    }\n",
       "</style>\n",
       "<table border=\"1\" class=\"dataframe\">\n",
       "  <thead>\n",
       "    <tr style=\"text-align: right;\">\n",
       "      <th></th>\n",
       "      <th>year</th>\n",
       "      <th>id</th>\n",
       "      <th>employees</th>\n",
       "      <th>turnover</th>\n",
       "      <th>profit</th>\n",
       "      <th>debts</th>\n",
       "      <th>size</th>\n",
       "      <th>employer</th>\n",
       "      <th>prof</th>\n",
       "      <th>prof_margin</th>\n",
       "      <th>location_y</th>\n",
       "    </tr>\n",
       "  </thead>\n",
       "  <tbody>\n",
       "    <tr>\n",
       "      <th>170310</th>\n",
       "      <td>2022</td>\n",
       "      <td>1246560</td>\n",
       "      <td>0</td>\n",
       "      <td>0</td>\n",
       "      <td>5842872</td>\n",
       "      <td>0</td>\n",
       "      <td>Small</td>\n",
       "      <td>No</td>\n",
       "      <td>Profitable</td>\n",
       "      <td>100.0</td>\n",
       "      <td>Municipiul Târnăveni</td>\n",
       "    </tr>\n",
       "    <tr>\n",
       "      <th>173571</th>\n",
       "      <td>2022</td>\n",
       "      <td>16170338</td>\n",
       "      <td>1</td>\n",
       "      <td>0</td>\n",
       "      <td>955706</td>\n",
       "      <td>573305</td>\n",
       "      <td>Small</td>\n",
       "      <td>Yes</td>\n",
       "      <td>Profitable</td>\n",
       "      <td>100.0</td>\n",
       "      <td>Municipiul Târgu Mureş</td>\n",
       "    </tr>\n",
       "    <tr>\n",
       "      <th>170335</th>\n",
       "      <td>2022</td>\n",
       "      <td>1251469</td>\n",
       "      <td>0</td>\n",
       "      <td>0</td>\n",
       "      <td>888183</td>\n",
       "      <td>1611</td>\n",
       "      <td>Small</td>\n",
       "      <td>No</td>\n",
       "      <td>Profitable</td>\n",
       "      <td>100.0</td>\n",
       "      <td>Sat Vînatori, Comuna Vînatori</td>\n",
       "    </tr>\n",
       "  </tbody>\n",
       "</table>\n",
       "</div>"
      ],
      "text/plain": [
       "        year        id  employees  turnover   profit   debts   size employer  \\\n",
       "170310  2022   1246560          0         0  5842872       0  Small       No   \n",
       "173571  2022  16170338          1         0   955706  573305  Small      Yes   \n",
       "170335  2022   1251469          0         0   888183    1611  Small       No   \n",
       "\n",
       "              prof  prof_margin                     location_y  \n",
       "170310  Profitable        100.0           Municipiul Târnăveni  \n",
       "173571  Profitable        100.0         Municipiul Târgu Mureş  \n",
       "170335  Profitable        100.0  Sat Vînatori, Comuna Vînatori  "
      ]
     },
     "execution_count": 38,
     "metadata": {},
     "output_type": "execute_result"
    }
   ],
   "source": [
    "prof_locs = pd.merge(profitable,loc_df[['id', 'location_y']], on='id', how='left')\n",
    "prof_22 = prof_locs[(prof_locs['year'] == 2022) & (prof_locs['prof'] == 'Profitable')].copy()\n",
    "\n",
    "prof_22_100 = prof_22[prof_22['prof_margin'] == 100] # profit margin 100%\n",
    "\n",
    "print(len(prof_22_100['location_y'].unique()), 'unique locations')\n",
    "print(len(prof_22_100[prof_22_100['employer'] == 'No']), 'companies have no employees')\n",
    "\n",
    "prof_22_100.sort_values(by='profit', ascending=False).head(3)"
   ]
  },
  {
   "cell_type": "markdown",
   "metadata": {},
   "source": [
    "### Top 5 Biggest Employers and their data - 2022"
   ]
  },
  {
   "cell_type": "code",
   "execution_count": 60,
   "metadata": {},
   "outputs": [
    {
     "data": {
      "text/html": [
       "<div>\n",
       "<style scoped>\n",
       "    .dataframe tbody tr th:only-of-type {\n",
       "        vertical-align: middle;\n",
       "    }\n",
       "\n",
       "    .dataframe tbody tr th {\n",
       "        vertical-align: top;\n",
       "    }\n",
       "\n",
       "    .dataframe thead th {\n",
       "        text-align: right;\n",
       "    }\n",
       "</style>\n",
       "<table border=\"1\" class=\"dataframe\">\n",
       "  <thead>\n",
       "    <tr style=\"text-align: right;\">\n",
       "      <th></th>\n",
       "      <th>id</th>\n",
       "      <th>employees</th>\n",
       "      <th>turnover</th>\n",
       "      <th>profit</th>\n",
       "      <th>debts</th>\n",
       "      <th>prof</th>\n",
       "      <th>prof_margin</th>\n",
       "    </tr>\n",
       "  </thead>\n",
       "  <tbody>\n",
       "    <tr>\n",
       "      <th>171974</th>\n",
       "      <td>10976687</td>\n",
       "      <td>5384</td>\n",
       "      <td>349288436</td>\n",
       "      <td>-25278897</td>\n",
       "      <td>521349204</td>\n",
       "      <td>Not Profitable</td>\n",
       "      <td>-7.24</td>\n",
       "    </tr>\n",
       "    <tr>\n",
       "      <th>175438</th>\n",
       "      <td>21408186</td>\n",
       "      <td>1608</td>\n",
       "      <td>136669019</td>\n",
       "      <td>2955927</td>\n",
       "      <td>71232688</td>\n",
       "      <td>Profitable</td>\n",
       "      <td>2.16</td>\n",
       "    </tr>\n",
       "    <tr>\n",
       "      <th>178417</th>\n",
       "      <td>32039122</td>\n",
       "      <td>1224</td>\n",
       "      <td>99607465</td>\n",
       "      <td>-3805483</td>\n",
       "      <td>87206406</td>\n",
       "      <td>Not Profitable</td>\n",
       "      <td>-3.82</td>\n",
       "    </tr>\n",
       "    <tr>\n",
       "      <th>169797</th>\n",
       "      <td>1200490</td>\n",
       "      <td>960</td>\n",
       "      <td>439877457</td>\n",
       "      <td>6035143</td>\n",
       "      <td>285992908</td>\n",
       "      <td>Profitable</td>\n",
       "      <td>1.37</td>\n",
       "    </tr>\n",
       "    <tr>\n",
       "      <th>170222</th>\n",
       "      <td>1235668</td>\n",
       "      <td>928</td>\n",
       "      <td>175562007</td>\n",
       "      <td>-18591667</td>\n",
       "      <td>106073364</td>\n",
       "      <td>Not Profitable</td>\n",
       "      <td>-10.59</td>\n",
       "    </tr>\n",
       "  </tbody>\n",
       "</table>\n",
       "</div>"
      ],
      "text/plain": [
       "              id  employees   turnover    profit      debts            prof  \\\n",
       "171974  10976687       5384  349288436 -25278897  521349204  Not Profitable   \n",
       "175438  21408186       1608  136669019   2955927   71232688      Profitable   \n",
       "178417  32039122       1224   99607465  -3805483   87206406  Not Profitable   \n",
       "169797   1200490        960  439877457   6035143  285992908      Profitable   \n",
       "170222   1235668        928  175562007 -18591667  106073364  Not Profitable   \n",
       "\n",
       "        prof_margin  \n",
       "171974        -7.24  \n",
       "175438         2.16  \n",
       "178417        -3.82  \n",
       "169797         1.37  \n",
       "170222       -10.59  "
      ]
     },
     "execution_count": 60,
     "metadata": {},
     "output_type": "execute_result"
    }
   ],
   "source": [
    "big_22 = profitable[profitable['year'] == 2022].copy()\n",
    "big_22 = big_22[big_22['size'] == 'Large'].sort_values(by='employees', ascending=False).head(5)\n",
    "big_22 = big_22.drop(columns=['year','size','employer'])\n",
    "big_22['pct']"
   ]
  },
  {
   "cell_type": "code",
   "execution_count": 116,
   "metadata": {},
   "outputs": [
    {
     "data": {
      "image/png": "[encoded data removed]",
      "text/plain": [
       "<Figure size 1200x700 with 1 Axes>"
      ]
     },
     "metadata": {},
     "output_type": "display_data"
    }
   ],
   "source": [
    "b_fig = big_22.plot.bar(x='id', y=['employees', 'turnover','profit','debts'], color=colors)\n",
    "b_fig.get_legend().remove()\n",
    "b_fig.yaxis.set_major_formatter('{x:1.0f}')\n",
    "plt.xticks(rotation=0)\n",
    "plt.xlabel('')\n",
    "plt.ylabel('')\n",
    "plt.show()"
   ]
  },
  {
   "cell_type": "markdown",
   "metadata": {},
   "source": [
    "### Top 3 Locations breakdown by Company Size"
   ]
  },
  {
   "cell_type": "code",
   "execution_count": 94,
   "metadata": {},
   "outputs": [
    {
     "data": {
      "text/html": [
       "<div>\n",
       "<style scoped>\n",
       "    .dataframe tbody tr th:only-of-type {\n",
       "        vertical-align: middle;\n",
       "    }\n",
       "\n",
       "    .dataframe tbody tr th {\n",
       "        vertical-align: top;\n",
       "    }\n",
       "\n",
       "    .dataframe thead th {\n",
       "        text-align: right;\n",
       "    }\n",
       "</style>\n",
       "<table border=\"1\" class=\"dataframe\">\n",
       "  <thead>\n",
       "    <tr style=\"text-align: right;\">\n",
       "      <th></th>\n",
       "      <th>location_y</th>\n",
       "      <th>size</th>\n",
       "      <th>id_x</th>\n",
       "      <th>id_y</th>\n",
       "      <th>pct</th>\n",
       "    </tr>\n",
       "  </thead>\n",
       "  <tbody>\n",
       "    <tr>\n",
       "      <th>93</th>\n",
       "      <td>Municipiul Târgu Mureş</td>\n",
       "      <td>Small</td>\n",
       "      <td>7579</td>\n",
       "      <td>7677</td>\n",
       "      <td>98.7</td>\n",
       "    </tr>\n",
       "    <tr>\n",
       "      <th>92</th>\n",
       "      <td>Municipiul Târgu Mureş</td>\n",
       "      <td>Medium</td>\n",
       "      <td>89</td>\n",
       "      <td>7677</td>\n",
       "      <td>1.2</td>\n",
       "    </tr>\n",
       "    <tr>\n",
       "      <th>91</th>\n",
       "      <td>Municipiul Târgu Mureş</td>\n",
       "      <td>Large</td>\n",
       "      <td>9</td>\n",
       "      <td>7677</td>\n",
       "      <td>0.1</td>\n",
       "    </tr>\n",
       "    <tr>\n",
       "      <th>86</th>\n",
       "      <td>Municipiul Reghin</td>\n",
       "      <td>Medium</td>\n",
       "      <td>23</td>\n",
       "      <td>1479</td>\n",
       "      <td>1.6</td>\n",
       "    </tr>\n",
       "    <tr>\n",
       "      <th>87</th>\n",
       "      <td>Municipiul Reghin</td>\n",
       "      <td>Small</td>\n",
       "      <td>1453</td>\n",
       "      <td>1479</td>\n",
       "      <td>98.2</td>\n",
       "    </tr>\n",
       "    <tr>\n",
       "      <th>85</th>\n",
       "      <td>Municipiul Reghin</td>\n",
       "      <td>Large</td>\n",
       "      <td>3</td>\n",
       "      <td>1479</td>\n",
       "      <td>0.2</td>\n",
       "    </tr>\n",
       "    <tr>\n",
       "      <th>90</th>\n",
       "      <td>Municipiul Sighişoara</td>\n",
       "      <td>Small</td>\n",
       "      <td>1072</td>\n",
       "      <td>1086</td>\n",
       "      <td>98.7</td>\n",
       "    </tr>\n",
       "    <tr>\n",
       "      <th>89</th>\n",
       "      <td>Municipiul Sighişoara</td>\n",
       "      <td>Medium</td>\n",
       "      <td>12</td>\n",
       "      <td>1086</td>\n",
       "      <td>1.1</td>\n",
       "    </tr>\n",
       "    <tr>\n",
       "      <th>88</th>\n",
       "      <td>Municipiul Sighişoara</td>\n",
       "      <td>Large</td>\n",
       "      <td>2</td>\n",
       "      <td>1086</td>\n",
       "      <td>0.2</td>\n",
       "    </tr>\n",
       "  </tbody>\n",
       "</table>\n",
       "</div>"
      ],
      "text/plain": [
       "                location_y    size  id_x  id_y   pct\n",
       "93  Municipiul Târgu Mureş   Small  7579  7677  98.7\n",
       "92  Municipiul Târgu Mureş  Medium    89  7677   1.2\n",
       "91  Municipiul Târgu Mureş   Large     9  7677   0.1\n",
       "86       Municipiul Reghin  Medium    23  1479   1.6\n",
       "87       Municipiul Reghin   Small  1453  1479  98.2\n",
       "85       Municipiul Reghin   Large     3  1479   0.2\n",
       "90   Municipiul Sighişoara   Small  1072  1086  98.7\n",
       "89   Municipiul Sighişoara  Medium    12  1086   1.1\n",
       "88   Municipiul Sighişoara   Large     2  1086   0.2"
      ]
     },
     "metadata": {},
     "output_type": "display_data"
    }
   ],
   "source": [
    "size_sum4 = prof_locs[prof_locs['year'] == 2022].groupby(['location_y', 'size'])[['id']].count().reset_index()\n",
    "size_sum4 = pd.merge(size_sum4,prof_locs[prof_locs['year'] == 2022].groupby(['location_y'])[['id']].count().reset_index(), on='location_y', how='left')\n",
    "size_sum4['pct'] = round((size_sum4['id_x'] / size_sum4['id_y'] * 100),1)\n",
    "size_sum4 = size_sum4.sort_values(by='id_y', ascending=False)\n",
    "display(size_sum4.head(9))"
   ]
  },
  {
   "cell_type": "markdown",
   "metadata": {},
   "source": [
    "### Top 3 locations by company size\n",
    "\n",
    "We can see nothing is changed in the top 3, compared to top cities with the total number of companies"
   ]
  },
  {
   "cell_type": "code",
   "execution_count": 115,
   "metadata": {},
   "outputs": [
    {
     "data": {
      "text/html": [
       "<div>\n",
       "<style scoped>\n",
       "    .dataframe tbody tr th:only-of-type {\n",
       "        vertical-align: middle;\n",
       "    }\n",
       "\n",
       "    .dataframe tbody tr th {\n",
       "        vertical-align: top;\n",
       "    }\n",
       "\n",
       "    .dataframe thead th {\n",
       "        text-align: right;\n",
       "    }\n",
       "</style>\n",
       "<table border=\"1\" class=\"dataframe\">\n",
       "  <thead>\n",
       "    <tr style=\"text-align: right;\">\n",
       "      <th></th>\n",
       "      <th>location_y</th>\n",
       "      <th>id_x</th>\n",
       "    </tr>\n",
       "  </thead>\n",
       "  <tbody>\n",
       "    <tr>\n",
       "      <th>91</th>\n",
       "      <td>Municipiul Târgu Mureş</td>\n",
       "      <td>9</td>\n",
       "    </tr>\n",
       "    <tr>\n",
       "      <th>85</th>\n",
       "      <td>Municipiul Reghin</td>\n",
       "      <td>3</td>\n",
       "    </tr>\n",
       "    <tr>\n",
       "      <th>88</th>\n",
       "      <td>Municipiul Sighişoara</td>\n",
       "      <td>2</td>\n",
       "    </tr>\n",
       "  </tbody>\n",
       "</table>\n",
       "</div>"
      ],
      "text/plain": [
       "                location_y  id_x\n",
       "91  Municipiul Târgu Mureş     9\n",
       "85       Municipiul Reghin     3\n",
       "88   Municipiul Sighişoara     2"
      ]
     },
     "metadata": {},
     "output_type": "display_data"
    },
    {
     "data": {
      "text/html": [
       "<div>\n",
       "<style scoped>\n",
       "    .dataframe tbody tr th:only-of-type {\n",
       "        vertical-align: middle;\n",
       "    }\n",
       "\n",
       "    .dataframe tbody tr th {\n",
       "        vertical-align: top;\n",
       "    }\n",
       "\n",
       "    .dataframe thead th {\n",
       "        text-align: right;\n",
       "    }\n",
       "</style>\n",
       "<table border=\"1\" class=\"dataframe\">\n",
       "  <thead>\n",
       "    <tr style=\"text-align: right;\">\n",
       "      <th></th>\n",
       "      <th>location_y</th>\n",
       "      <th>id_x</th>\n",
       "    </tr>\n",
       "  </thead>\n",
       "  <tbody>\n",
       "    <tr>\n",
       "      <th>92</th>\n",
       "      <td>Municipiul Târgu Mureş</td>\n",
       "      <td>89</td>\n",
       "    </tr>\n",
       "    <tr>\n",
       "      <th>86</th>\n",
       "      <td>Municipiul Reghin</td>\n",
       "      <td>23</td>\n",
       "    </tr>\n",
       "    <tr>\n",
       "      <th>89</th>\n",
       "      <td>Municipiul Sighişoara</td>\n",
       "      <td>12</td>\n",
       "    </tr>\n",
       "  </tbody>\n",
       "</table>\n",
       "</div>"
      ],
      "text/plain": [
       "                location_y  id_x\n",
       "92  Municipiul Târgu Mureş    89\n",
       "86       Municipiul Reghin    23\n",
       "89   Municipiul Sighişoara    12"
      ]
     },
     "metadata": {},
     "output_type": "display_data"
    },
    {
     "data": {
      "text/html": [
       "<div>\n",
       "<style scoped>\n",
       "    .dataframe tbody tr th:only-of-type {\n",
       "        vertical-align: middle;\n",
       "    }\n",
       "\n",
       "    .dataframe tbody tr th {\n",
       "        vertical-align: top;\n",
       "    }\n",
       "\n",
       "    .dataframe thead th {\n",
       "        text-align: right;\n",
       "    }\n",
       "</style>\n",
       "<table border=\"1\" class=\"dataframe\">\n",
       "  <thead>\n",
       "    <tr style=\"text-align: right;\">\n",
       "      <th></th>\n",
       "      <th>location_y</th>\n",
       "      <th>id_x</th>\n",
       "    </tr>\n",
       "  </thead>\n",
       "  <tbody>\n",
       "    <tr>\n",
       "      <th>93</th>\n",
       "      <td>Municipiul Târgu Mureş</td>\n",
       "      <td>7579</td>\n",
       "    </tr>\n",
       "    <tr>\n",
       "      <th>87</th>\n",
       "      <td>Municipiul Reghin</td>\n",
       "      <td>1453</td>\n",
       "    </tr>\n",
       "    <tr>\n",
       "      <th>90</th>\n",
       "      <td>Municipiul Sighişoara</td>\n",
       "      <td>1072</td>\n",
       "    </tr>\n",
       "  </tbody>\n",
       "</table>\n",
       "</div>"
      ],
      "text/plain": [
       "                location_y  id_x\n",
       "93  Municipiul Târgu Mureş  7579\n",
       "87       Municipiul Reghin  1453\n",
       "90   Municipiul Sighişoara  1072"
      ]
     },
     "metadata": {},
     "output_type": "display_data"
    }
   ],
   "source": [
    "loc_big = size_sum4[size_sum4['size'] == 'Large'][['location_y','id_x']].sort_values(by='id_x', ascending=False)\n",
    "loc_med = size_sum4[size_sum4['size'] == 'Medium'][['location_y','id_x']].sort_values(by='id_x', ascending=False)\n",
    "loc_small = size_sum4[size_sum4['size'] == 'Small'][['location_y','id_x']].sort_values(by='id_x', ascending=False)\n",
    "display(loc_big.head(3),loc_med.head(3),loc_small.head(3))"
   ]
  },
  {
   "cell_type": "markdown",
   "metadata": {},
   "source": [
    "### Top 3 locations for Companies with 100% Profit Margin"
   ]
  },
  {
   "cell_type": "code",
   "execution_count": 140,
   "metadata": {},
   "outputs": [
    {
     "data": {
      "text/html": [
       "<div>\n",
       "<style scoped>\n",
       "    .dataframe tbody tr th:only-of-type {\n",
       "        vertical-align: middle;\n",
       "    }\n",
       "\n",
       "    .dataframe tbody tr th {\n",
       "        vertical-align: top;\n",
       "    }\n",
       "\n",
       "    .dataframe thead th {\n",
       "        text-align: right;\n",
       "    }\n",
       "</style>\n",
       "<table border=\"1\" class=\"dataframe\">\n",
       "  <thead>\n",
       "    <tr style=\"text-align: right;\">\n",
       "      <th></th>\n",
       "      <th>index</th>\n",
       "      <th>location_y</th>\n",
       "      <th>id</th>\n",
       "      <th>profit</th>\n",
       "      <th>pct_count</th>\n",
       "      <th>pct_prof</th>\n",
       "    </tr>\n",
       "  </thead>\n",
       "  <tbody>\n",
       "    <tr>\n",
       "      <th>0</th>\n",
       "      <td>11</td>\n",
       "      <td>Municipiul Târgu Mureş</td>\n",
       "      <td>75</td>\n",
       "      <td>2786226</td>\n",
       "      <td>39.5</td>\n",
       "      <td>22.0</td>\n",
       "    </tr>\n",
       "    <tr>\n",
       "      <th>1</th>\n",
       "      <td>10</td>\n",
       "      <td>Municipiul Sighişoara</td>\n",
       "      <td>13</td>\n",
       "      <td>42649</td>\n",
       "      <td>6.8</td>\n",
       "      <td>0.3</td>\n",
       "    </tr>\n",
       "    <tr>\n",
       "      <th>2</th>\n",
       "      <td>12</td>\n",
       "      <td>Municipiul Târnăveni</td>\n",
       "      <td>10</td>\n",
       "      <td>5845552</td>\n",
       "      <td>5.3</td>\n",
       "      <td>46.2</td>\n",
       "    </tr>\n",
       "    <tr>\n",
       "      <th>3</th>\n",
       "      <td>9</td>\n",
       "      <td>Municipiul Reghin</td>\n",
       "      <td>8</td>\n",
       "      <td>227266</td>\n",
       "      <td>4.2</td>\n",
       "      <td>1.8</td>\n",
       "    </tr>\n",
       "    <tr>\n",
       "      <th>4</th>\n",
       "      <td>38</td>\n",
       "      <td>Sat Livezeni, Comuna Livezeni</td>\n",
       "      <td>7</td>\n",
       "      <td>1726114</td>\n",
       "      <td>3.7</td>\n",
       "      <td>13.7</td>\n",
       "    </tr>\n",
       "  </tbody>\n",
       "</table>\n",
       "</div>"
      ],
      "text/plain": [
       "   index                     location_y  id   profit  pct_count  pct_prof\n",
       "0     11         Municipiul Târgu Mureş  75  2786226       39.5      22.0\n",
       "1     10          Municipiul Sighişoara  13    42649        6.8       0.3\n",
       "2     12           Municipiul Târnăveni  10  5845552        5.3      46.2\n",
       "3      9              Municipiul Reghin   8   227266        4.2       1.8\n",
       "4     38  Sat Livezeni, Comuna Livezeni   7  1726114        3.7      13.7"
      ]
     },
     "execution_count": 140,
     "metadata": {},
     "output_type": "execute_result"
    }
   ],
   "source": [
    "prof_22_100_summed = pd.merge(prof_22_100.groupby('location_y')['id'].count().reset_index(), prof_22_100.groupby('location_y')['profit'].sum().reset_index(), on='location_y', how='left')\n",
    "top5_profit = prof_22_100_summed.sort_values(by='profit', ascending=False).head(5).reset_index()\n",
    "top5_count = prof_22_100_summed.sort_values(by='id', ascending=False).head(5).reset_index()\n",
    "\n",
    "top5_count['pct_count'] = round((top5_count['id'] / prof_22_100_summed['id'].sum() * 100),1)\n",
    "top5_profit['pct_count'] = round((top5_profit['id'] / prof_22_100_summed['id'].sum() * 100),1)\n",
    "\n",
    "top5_count['pct_prof'] = round((top5_count['profit'] / prof_22_100_summed['profit'].sum() * 100),1)\n",
    "top5_profit['pct_prof'] = round((top5_profit['profit'] / prof_22_100_summed['profit'].sum() * 100),1)\n",
    "top5_count"
   ]
  },
  {
   "cell_type": "code",
   "execution_count": 139,
   "metadata": {},
   "outputs": [
    {
     "data": {
      "image/png": "[encoded data removed]",
      "text/plain": [
       "<Figure size 1200x700 with 1 Axes>"
      ]
     },
     "metadata": {},
     "output_type": "display_data"
    }
   ],
   "source": [
    "# top 3 locations by number of companies with 100% margin\n",
    "loc_100_count = top5_count.head(3).plot.bar(x='location_y', y=['pct_count','pct_prof'], color=colors)\n",
    "loc_100_count.get_legend().remove()\n",
    "loc_100_count.yaxis.set_major_formatter('{x:1.0f}%')\n",
    "plt.xticks(rotation=0)\n",
    "plt.xlabel('')\n",
    "plt.ylabel('')\n",
    "plt.show()"
   ]
  },
  {
   "cell_type": "code",
   "execution_count": 138,
   "metadata": {},
   "outputs": [
    {
     "data": {
      "image/png": "[encoded data removed]",
      "text/plain": [
       "<Figure size 1200x700 with 1 Axes>"
      ]
     },
     "metadata": {},
     "output_type": "display_data"
    }
   ],
   "source": [
    "# top 3 locations by profit of companies with 100% margin\n",
    "loc_100_pr = top5_profit.head(3).plot.bar(x='location_y', y=['pct_count','pct_prof'], color=colors)\n",
    "loc_100_pr.get_legend().remove()\n",
    "loc_100_pr.yaxis.set_major_formatter('{x:1.0f}%')\n",
    "plt.xticks(rotation=0)\n",
    "plt.xlabel('')\n",
    "plt.ylabel('')\n",
    "plt.show()"
   ]
  },
  {
   "cell_type": "markdown",
   "metadata": {},
   "source": [
    "### % Non Employers - Profitability Break Down"
   ]
  },
  {
   "cell_type": "code",
   "execution_count": 46,
   "metadata": {},
   "outputs": [
    {
     "data": {
      "text/html": [
       "<div>\n",
       "<style scoped>\n",
       "    .dataframe tbody tr th:only-of-type {\n",
       "        vertical-align: middle;\n",
       "    }\n",
       "\n",
       "    .dataframe tbody tr th {\n",
       "        vertical-align: top;\n",
       "    }\n",
       "\n",
       "    .dataframe thead th {\n",
       "        text-align: right;\n",
       "    }\n",
       "</style>\n",
       "<table border=\"1\" class=\"dataframe\">\n",
       "  <thead>\n",
       "    <tr style=\"text-align: right;\">\n",
       "      <th></th>\n",
       "      <th>prof</th>\n",
       "      <th>id</th>\n",
       "      <th>pct</th>\n",
       "    </tr>\n",
       "  </thead>\n",
       "  <tbody>\n",
       "    <tr>\n",
       "      <th>0</th>\n",
       "      <td>Break-even</td>\n",
       "      <td>1393</td>\n",
       "      <td>19.39</td>\n",
       "    </tr>\n",
       "    <tr>\n",
       "      <th>1</th>\n",
       "      <td>Not Profitable</td>\n",
       "      <td>2239</td>\n",
       "      <td>31.16</td>\n",
       "    </tr>\n",
       "    <tr>\n",
       "      <th>2</th>\n",
       "      <td>Profitable</td>\n",
       "      <td>3553</td>\n",
       "      <td>49.45</td>\n",
       "    </tr>\n",
       "  </tbody>\n",
       "</table>\n",
       "</div>"
      ],
      "text/plain": [
       "             prof    id    pct\n",
       "0      Break-even  1393  19.39\n",
       "1  Not Profitable  2239  31.16\n",
       "2      Profitable  3553  49.45"
      ]
     },
     "execution_count": 46,
     "metadata": {},
     "output_type": "execute_result"
    }
   ],
   "source": [
    "# Companies with no employees in 2022. How many are profitable\n",
    "no_empl = profitable[profitable['employer'] == 'No'].copy()\n",
    "no_empl_22 = no_empl[no_empl['year'] == 2022].groupby('prof')['id'].count().reset_index()\n",
    "no_empl_22['pct'] = round(((no_empl_22['id']/ no_empl_22['id'].sum() * 100)),2)\n",
    "no_empl_22"
   ]
  },
  {
   "cell_type": "code",
   "execution_count": 48,
   "metadata": {},
   "outputs": [
    {
     "data": {
      "image/png": "[encoded data removed]",
      "text/plain": [
       "<Figure size 1200x700 with 1 Axes>"
      ]
     },
     "metadata": {},
     "output_type": "display_data"
    }
   ],
   "source": [
    "pr_fig = plt.figure()\n",
    "ax = pr_fig.add_subplot(1,1,1)\n",
    "col = colors=colors[:3]\n",
    "col.append('white')\n",
    "ax.pie([3553,2239,1393], colors=['#4A3AFF','#0B0086','#E1DEFF'])\n",
    "ax.add_artist(plt.Circle((0,0), 0.87, color='white'))\n",
    "pr_fig.show()\n"
   ]
  }
 ],
 "metadata": {
  "kernelspec": {
   "display_name": "base",
   "language": "python",
   "name": "python3"
  },
  "language_info": {
   "codemirror_mode": {
    "name": "ipython",
    "version": 3
   },
   "file_extension": ".py",
   "mimetype": "text/x-python",
   "name": "python",
   "nbconvert_exporter": "python",
   "pygments_lexer": "ipython3",
   "version": "3.11.8"
  }
 },
 "nbformat": 4,
 "nbformat_minor": 2
}
